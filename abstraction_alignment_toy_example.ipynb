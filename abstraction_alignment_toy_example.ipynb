{
 "cells": [
  {
   "cell_type": "markdown",
   "metadata": {},
   "source": [
    "# Abstraction Alignment on a Toy Example\n",
    "\n",
    "We apply abstraction alignment in a synthetic setting where we have enforced a hierarchical relationship in the model's behavior. First, we generating synthetic image data with inherent hierarchical structure. Then we train a simple neural network classifier on the data and analyze how well the model's behavior aligns with the known hierarchical structure."
   ]
  },
  {
   "cell_type": "code",
   "execution_count": 1,
   "metadata": {},
   "outputs": [],
   "source": [
    "%load_ext autoreload\n",
    "%autoreload 2"
   ]
  },
  {
   "cell_type": "code",
   "execution_count": 32,
   "metadata": {},
   "outputs": [],
   "source": [
    "import numpy as np\n",
    "import os\n",
    "from matplotlib import pyplot as plt\n",
    "import random\n",
    "import torch\n",
    "import torch.nn as nn\n",
    "from tqdm import tqdm\n",
    "from treelib import Tree\n",
    "from scipy import stats\n",
    "\n",
    "import metrics\n",
    "from abstraction_graph_toy_example import make_abstraction_graph, show_abstraction_graph, propagate\n",
    "from util.toy_example.data_generation import SyntheticDataGenerator, create_dataloaders"
   ]
  },
  {
   "cell_type": "markdown",
   "metadata": {},
   "source": [
    "## Generating the Synthetic Dataset\n",
    "We generate synthetic 4x4 RGB images with three classes. These classes are the result of a higher-order structure. We can think of these classes are image generation functions, where sometimes two generation functions share a higher-level parent function.\n",
    "\n",
    "```\n",
    "-Parent 0: Images with three corners sharing the same color\n",
    "--Class 0: Images with three corners sharing the same color\n",
    "-Parent 1: Images with two four-pixel same-color segments\n",
    "--Class 1: Images with two specific quadrants sharing the same color\n",
    "--Class 2: Images with alternating columns of the same color\n",
    "```"
   ]
  },
  {
   "cell_type": "code",
   "execution_count": 4,
   "metadata": {},
   "outputs": [
    {
     "data": {
      "image/png": "[encoded data removed]",
      "text/plain": [
       "<Figure size 720x432 with 15 Axes>"
      ]
     },
     "metadata": {
      "needs_background": "light"
     },
     "output_type": "display_data"
    }
   ],
   "source": [
    "generator = SyntheticDataGenerator(image_size=4)\n",
    "generator.show_examples(5)"
   ]
  },
  {
   "cell_type": "code",
   "execution_count": 5,
   "metadata": {},
   "outputs": [
    {
     "name": "stdout",
     "output_type": "stream",
     "text": [
      "Training batches: 141\n",
      "Test batches: 47\n",
      "Batch shapes:\n",
      "  Images: torch.Size([32, 48])\n",
      "  Labels: torch.Size([32])\n"
     ]
    }
   ],
   "source": [
    "train_loader, test_loader = create_dataloaders(\n",
    "    train_samples_per_class = 1500,\n",
    "    test_samples_per_class= 500,\n",
    "    batch_size = 32,\n",
    "    num_workers = 4)\n",
    "\n",
    "# Print dataset information\n",
    "print(f\"Training batches: {len(train_loader)}\")\n",
    "print(f\"Test batches: {len(test_loader)}\")\n",
    "    \n",
    "# Example of batch structure\n",
    "for images, labels in train_loader:\n",
    "    print(f\"Batch shapes:\")\n",
    "    print(f\"  Images: {images.shape}\")\n",
    "    print(f\"  Labels: {labels.shape}\")\n",
    "    break  # Just show first batch"
   ]
  },
  {
   "cell_type": "markdown",
   "metadata": {},
   "source": [
    "## Training a Small Model\n",
    "We train a linear model with ReLU on the dataset to classify images into one of the three classes. Since there is some overlap between classes 1 and 2, the model should experience confusion between the two."
   ]
  },
  {
   "cell_type": "code",
   "execution_count": 6,
   "metadata": {},
   "outputs": [],
   "source": [
    "device = torch.device(\"cuda\" if torch.cuda.is_available() else \"cpu\")\n",
    "\n",
    "num_classes = 3\n",
    "input_size = train_loader.dataset[0][0].shape[-1]\n",
    "hidden_dim = 20\n",
    "\n",
    "model = nn.Sequential(\n",
    "    nn.Linear(input_size, hidden_dim),\n",
    "    nn.ReLU(),\n",
    "    nn.Linear(hidden_dim, num_classes)\n",
    ").to(device)"
   ]
  },
  {
   "cell_type": "code",
   "execution_count": 7,
   "metadata": {},
   "outputs": [],
   "source": [
    "def evaluate_model(model, data_loader, device):\n",
    "    \"\"\"\n",
    "    Evaluate model accuracy on a dataset.\n",
    "    \n",
    "    Args:\n",
    "        model: Neural network model\n",
    "        data_loader: DataLoader containing the evaluation dataset\n",
    "        device: Device to run evaluation on\n",
    "        \n",
    "    Returns:\n",
    "        float: Accuracy score (0-1)\n",
    "    \"\"\"\n",
    "    model.eval()\n",
    "    correct = 0\n",
    "    total = 0\n",
    "    \n",
    "    with torch.no_grad():\n",
    "        for images, labels in data_loader:\n",
    "            images = images.to(device).float()\n",
    "            labels = labels.to(device)\n",
    "            \n",
    "            outputs = model(images)\n",
    "            _, predicted = torch.max(outputs.data, 1)\n",
    "            \n",
    "            total += labels.size(0)\n",
    "            correct += (predicted == labels).sum().item()\n",
    "    \n",
    "    return correct / total"
   ]
  },
  {
   "cell_type": "code",
   "execution_count": 8,
   "metadata": {},
   "outputs": [],
   "source": [
    "def train_model(model, train_loader, test_loader, num_epochs=200, learning_rate=0.001):\n",
    "    \"\"\"\n",
    "    Train the neural network model.\n",
    "    \n",
    "    Args:\n",
    "        model: Neural network model\n",
    "        train_loader: DataLoader for training data\n",
    "        test_loader: DataLoader for test data\n",
    "        num_epochs: Number of training epochs\n",
    "        learning_rate: Learning rate for optimizer\n",
    "        \n",
    "    Returns:\n",
    "        Training losses and accuracies per epoch\n",
    "    \"\"\"\n",
    "    device = torch.device(\"cuda\" if torch.cuda.is_available() else \"cpu\")\n",
    "    \n",
    "    model = model.to(device)\n",
    "    optimizer = torch.optim.Adam(model.parameters(), lr=learning_rate)\n",
    "    criterion = nn.CrossEntropyLoss()\n",
    "    \n",
    "    train_losses = []\n",
    "    train_accuracies = []\n",
    "    \n",
    "    pbar = tqdm(range(num_epochs), desc=\"Training\")\n",
    "    for epoch in pbar:\n",
    "        model.train()\n",
    "        epoch_losses = []\n",
    "        correct = 0\n",
    "        total = 0\n",
    "        \n",
    "        for images, labels in train_loader:\n",
    "            images = images.to(device).float()\n",
    "            labels = labels.to(device)\n",
    "            \n",
    "            # Forward pass\n",
    "            outputs = model(images)\n",
    "            loss = criterion(outputs, labels)\n",
    "            \n",
    "            # Backward pass and optimize\n",
    "            optimizer.zero_grad()\n",
    "            loss.backward()\n",
    "            optimizer.step()\n",
    "            \n",
    "            # Track statistics\n",
    "            epoch_losses.append(loss.item())\n",
    "            _, predicted = torch.max(outputs.data, 1)\n",
    "            total += labels.size(0)\n",
    "            correct += (predicted == labels).sum().item()\n",
    "        \n",
    "        # Calculate epoch statistics\n",
    "        epoch_loss = sum(epoch_losses) / len(epoch_losses)\n",
    "        epoch_accuracy = correct / total\n",
    "        train_losses.append(epoch_loss)\n",
    "        train_accuracies.append(epoch_accuracy)\n",
    "        \n",
    "        # Update progress bar every epoch\n",
    "        if epoch % 10 == 0:\n",
    "            test_accuracy = evaluate_model(model, test_loader, device)\n",
    "        else:\n",
    "            test_accuracy = train_accuracies[-1]  # Use training accuracy when not computing test\n",
    "            \n",
    "        pbar.set_postfix({\n",
    "            'epoch': f'{epoch:3d}',\n",
    "            'loss': f'{epoch_loss:.4f}',\n",
    "            'train_acc': f'{epoch_accuracy:.4f}',\n",
    "            'test_acc': f'{test_accuracy:.4f}'\n",
    "        })\n",
    "    \n",
    "    return train_losses, train_accuracies"
   ]
  },
  {
   "cell_type": "code",
   "execution_count": 9,
   "metadata": {},
   "outputs": [
    {
     "name": "stderr",
     "output_type": "stream",
     "text": [
      "Training: 100%|███████████████████████████████████████| 200/200 [03:29<00:00,  1.05s/it, epoch=199, loss=0.1450, train_acc=0.9376, test_acc=0.9376]\n"
     ]
    }
   ],
   "source": [
    "loss, accuracy = train_model(model, train_loader, test_loader, num_epochs=200, learning_rate=0.001)"
   ]
  },
  {
   "cell_type": "code",
   "execution_count": 10,
   "metadata": {},
   "outputs": [
    {
     "name": "stderr",
     "output_type": "stream",
     "text": [
      "100%|█████████████████████████████████████████████████████████████████████████████████████████████████████████████| 47/47 [00:00<00:00, 135.75it/s]\n"
     ]
    }
   ],
   "source": [
    "# Compute model outputs on test instances\n",
    "labels = []\n",
    "outputs = []\n",
    "\n",
    "for i, (image, label) in enumerate(tqdm(test_loader)):\n",
    "    with torch.no_grad():\n",
    "        images = image.to(device).float()\n",
    "    labels.extend(label.numpy())\n",
    "\n",
    "    # Compute model inferences\n",
    "    output = model(images)\n",
    "    output = torch.nn.functional.softmax(output, dim=1).squeeze(0).detach().cpu().numpy()\n",
    "    outputs.append(output)\n",
    "    \n",
    "outputs = np.vstack(outputs)"
   ]
  },
  {
   "cell_type": "markdown",
   "metadata": {},
   "source": [
    "## Define the Abstraction Graph\n",
    "We define the abstraction graph based on human similarity. Images in classes 1 and 2 are more similar to each other than images in class 0."
   ]
  },
  {
   "cell_type": "code",
   "execution_count": 33,
   "metadata": {},
   "outputs": [
    {
     "name": "stdout",
     "output_type": "stream",
     "text": [
      "root (None)\n",
      "├── parent0 (None)\n",
      "│   └── child0 (None)\n",
      "└── parent1 (None)\n",
      "    ├── child1 (None)\n",
      "    └── child2 (None)\n",
      "\n",
      "Abstraction graph with 6 nodes across 3 levels.\n"
     ]
    }
   ],
   "source": [
    "abstraction_graph = make_abstraction_graph()\n",
    "print(show_abstraction_graph(abstraction_graph))\n",
    "print(f'Abstraction graph with {abstraction_graph.size()} nodes across {abstraction_graph.depth() + 1} levels.')"
   ]
  },
  {
   "cell_type": "markdown",
   "metadata": {},
   "source": [
    "## Measure Abstraction Alignment\n",
    "We show that the model is abstractio aligned by measuring its abstraction match --- i.e., how much of its entropy in the model's predictions is reduced by moving up a level of abstraction."
   ]
  },
  {
   "cell_type": "markdown",
   "metadata": {},
   "source": [
    "First, we measure abstraction alignment using the real abstraction graph. This abstraction graph represents the abstractions we expect the model to learn."
   ]
  },
  {
   "cell_type": "code",
   "execution_count": 34,
   "metadata": {},
   "outputs": [],
   "source": [
    "aligned_abstraction_graphs = []\n",
    "for i in range(len(labels)):\n",
    "    abstraction_graph = propagate(outputs[i], make_abstraction_graph())\n",
    "    aligned_abstraction_graphs.append(abstraction_graph)"
   ]
  },
  {
   "cell_type": "code",
   "execution_count": 35,
   "metadata": {},
   "outputs": [
    {
     "name": "stdout",
     "output_type": "stream",
     "text": [
      "Abstraction match = 75.51%\n"
     ]
    }
   ],
   "source": [
    "abstraction_match = metrics.abstraction_match(aligned_abstraction_graphs, 1)\n",
    "print(f'Abstraction match = {abstraction_match:.2%}')"
   ]
  },
  {
   "cell_type": "markdown",
   "metadata": {},
   "source": [
    "Then, we measure abstraction match using a misaligned abstraction graph. The misaligned abstraction graph does not align with the abstractions we expect the model to learn."
   ]
  },
  {
   "cell_type": "code",
   "execution_count": 37,
   "metadata": {},
   "outputs": [
    {
     "name": "stdout",
     "output_type": "stream",
     "text": [
      "Abstraction match with misaligned graph = 13.98%\n"
     ]
    }
   ],
   "source": [
    "misaligned_abstraction_graphs = []\n",
    "for i in range(len(labels)):\n",
    "    abstraction_graph = propagate(outputs[i], make_abstraction_graph(misaligned=True))\n",
    "    misaligned_abstraction_graphs.append(abstraction_graph)\n",
    "abstraction_match = metrics.abstraction_match(misaligned_abstraction_graphs, 1)\n",
    "print(f'Abstraction match with misaligned graph = {abstraction_match:.2%}')"
   ]
  },
  {
   "cell_type": "code",
   "execution_count": 38,
   "metadata": {},
   "outputs": [
    {
     "data": {
      "image/png": "[encoded data removed]",
      "text/plain": [
       "<Figure size 432x288 with 1 Axes>"
      ]
     },
     "metadata": {
      "needs_background": "light"
     },
     "output_type": "display_data"
    },
    {
     "name": "stdout",
     "output_type": "stream",
     "text": [
      "MODEL PREDICTIONS:  ['1 (0.64)', '2 (0.36)', '0 (0.00)']\n",
      "ALIGNED ABSTRACTION GRAPH:\n",
      "root (1.00)\n",
      "├── parent0 (0.00)\n",
      "│   └── child0 (0.00)\n",
      "└── parent1 (1.00)\n",
      "    ├── child1 (0.64)\n",
      "    └── child2 (0.36)\n",
      "\n",
      "MISALIGNED ABSTRACTION GRAPH:\n",
      "root (1.00)\n",
      "├── parent0 (0.64)\n",
      "│   ├── child0 (0.00)\n",
      "│   └── child1 (0.64)\n",
      "└── parent1 (0.36)\n",
      "    └── child2 (0.36)\n",
      "\n"
     ]
    }
   ],
   "source": [
    "# An example comparing aligned and misaligned abstraction alignment\n",
    "index = 510\n",
    "image = test_loader.dataset[index][0].detach().cpu().numpy()\n",
    "image = np.reshape(image, (4, 4, 3)) * 255\n",
    "\n",
    "plt.imshow(image.astype(int))\n",
    "plt.axis('off')\n",
    "plt.show()\n",
    "\n",
    "top_predictions = np.argsort(outputs[index])[-3:]\n",
    "print('MODEL PREDICTIONS: ', [f'{i} ({outputs[index][i]:.2f})' for i in top_predictions][::-1])\n",
    "\n",
    "print('ALIGNED ABSTRACTION GRAPH:')\n",
    "print(show_abstraction_graph(aligned_abstraction_graphs[index]))\n",
    "\n",
    "print('MISALIGNED ABSTRACTION GRAPH:')\n",
    "print(show_abstraction_graph(misaligned_abstraction_graphs[index]))\n"
   ]
  },
  {
   "cell_type": "code",
   "execution_count": null,
   "metadata": {},
   "outputs": [],
   "source": []
  }
 ],
 "metadata": {
  "kernelspec": {
   "display_name": "Python 3 (ipykernel)",
   "language": "python",
   "name": "python3"
  },
  "language_info": {
   "codemirror_mode": {
    "name": "ipython",
    "version": 3
   },
   "file_extension": ".py",
   "mimetype": "text/x-python",
   "name": "python",
   "nbconvert_exporter": "python",
   "pygments_lexer": "ipython3",
   "version": "3.7.12"
  }
 },
 "nbformat": 4,
 "nbformat_minor": 4
}
