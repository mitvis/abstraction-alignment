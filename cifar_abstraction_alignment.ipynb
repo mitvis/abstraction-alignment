{
 "cells": [
  {
   "cell_type": "markdown",
   "id": "68d186ff-ec39-4566-ab49-4be34aecfc2a",
   "metadata": {},
   "source": [
    "# Abstraction Alignment on CIFAR-100\n",
    "We apply abstraction alignment to CIFAR-100 and its class-superclass hierarchy. In this notebook, we:\n",
    "1. train and evaluate a ResNet20 on CIFAR-100\n",
    "2. aggregate and report the model's mean level-wise entropy across the test set\n",
    "3. qualitatively analyze common \"types\" of abstraction (mis)alignment"
   ]
  },
  {
   "cell_type": "code",
   "execution_count": 1,
   "id": "4c600f05-c1a4-4bb7-b493-31b9f5dc96e8",
   "metadata": {},
   "outputs": [],
   "source": [
    "%load_ext autoreload\n",
    "%autoreload 2"
   ]
  },
  {
   "cell_type": "code",
   "execution_count": 2,
   "id": "80be5757-c011-490a-9928-8f91b451f123",
   "metadata": {},
   "outputs": [],
   "source": [
    "import os\n",
    "import torch\n",
    "import numpy as np\n",
    "from tqdm import tqdm\n",
    "from scipy import stats\n",
    "import matplotlib.pyplot as plt\n",
    "from itertools import combinations\n",
    "\n",
    "import cifar\n",
    "import cifar_util\n",
    "import cifar_train\n",
    "import cifar_metadata"
   ]
  },
  {
   "cell_type": "markdown",
   "id": "0afe1308-c6a1-4f0d-b7dc-cc023a987e00",
   "metadata": {},
   "source": [
    "### CIFAR-100 Model and Dataset\n",
    "First, we load the CIFAR-100 dataset and train a ResNet20 on it. This is the model we will inspect with abstraction alignment."
   ]
  },
  {
   "cell_type": "code",
   "execution_count": 3,
   "id": "3dbf4bc3-03d6-4ce0-85fd-181c7ad111ae",
   "metadata": {},
   "outputs": [],
   "source": [
    "# User-defined paths -- TODO: update with your own\n",
    "MODEL_PATH = 'models/'\n",
    "CIFAR_DIR = '/nobackup/users/aboggust/data/cifar'"
   ]
  },
  {
   "cell_type": "code",
   "execution_count": 4,
   "id": "cb68d8ff-7f5c-4ec3-ac8a-e2269d00f094",
   "metadata": {
    "scrolled": true,
    "tags": []
   },
   "outputs": [
    {
     "name": "stdout",
     "output_type": "stream",
     "text": [
      "Loading trained CIFAR-100 model from: models/resnet20/checkpoints/checkpoint.pt\n"
     ]
    }
   ],
   "source": [
    "# Train a ResNet20 on CIFAR-100\n",
    "batch_size = 128\n",
    "data_augmentation = True\n",
    "epochs = 200\n",
    "architecture = 'resnet20'\n",
    "device = torch.device(\"cuda\" if torch.cuda.is_available() else \"cpu\")\n",
    "\n",
    "checkpoint = os.path.join(MODEL_PATH, architecture, 'checkpoints', 'checkpoint.pt')\n",
    "if os.path.isfile(checkpoint):\n",
    "    print(f'Loading trained CIFAR-100 model from: {checkpoint}')\n",
    "    model = cifar_util.load_model(architecture)\n",
    "    model.load_state_dict(torch.load(checkpoint))\n",
    "else:\n",
    "    print(f'Training CIFAR-100 model')\n",
    "    model = cifar_train.train(architecture, \n",
    "                              batch_size, \n",
    "                              epochs, \n",
    "                              CIFAR_DIR,\n",
    "                              MODEL_PATH)\n",
    "    \n",
    "model.to(device)\n",
    "model = model.eval()"
   ]
  },
  {
   "cell_type": "code",
   "execution_count": 5,
   "id": "97e0388f-bf30-4361-8316-7d772b42b10e",
   "metadata": {},
   "outputs": [
    {
     "name": "stdout",
     "output_type": "stream",
     "text": [
      "Files already downloaded and verified\n",
      "Files already downloaded and verified\n"
     ]
    }
   ],
   "source": [
    "# Load the CIFAR-100 dataset for exploration\n",
    "train_loader, test_loader = cifar_util.load_dataset(CIFAR_DIR, \n",
    "                                                    data_augmentation,\n",
    "                                                    batch_size)\n",
    "test_dataset = test_loader.dataset"
   ]
  },
  {
   "cell_type": "code",
   "execution_count": 6,
   "id": "86afa4b2-33d7-4f75-b2cc-f0e45794e914",
   "metadata": {},
   "outputs": [
    {
     "name": "stderr",
     "output_type": "stream",
     "text": [
      "100%|████████████████████████████████████████████████████████████████████████████████████████████████████████████████████████████████████████████████| 79/79 [00:04<00:00, 17.83it/s]\n"
     ]
    }
   ],
   "source": [
    "# Compute model outputs on test instances\n",
    "labels = []\n",
    "outputs = []\n",
    "\n",
    "for i, (image, label) in enumerate(tqdm(test_loader)):\n",
    "    with torch.no_grad():\n",
    "        images = image.to(device)\n",
    "    labels.extend(label.numpy())\n",
    "\n",
    "    # Compute model inferences\n",
    "    output = model(images)\n",
    "    output = torch.nn.functional.softmax(output, dim=1).squeeze(0).detach().cpu().numpy()\n",
    "    outputs.append(output)\n",
    "    \n",
    "outputs = np.vstack(outputs)"
   ]
  },
  {
   "cell_type": "code",
   "execution_count": 7,
   "id": "5b313015-bd94-40a2-be71-bb35cdde4358",
   "metadata": {},
   "outputs": [
    {
     "name": "stdout",
     "output_type": "stream",
     "text": [
      "MODEL STATS:\n",
      "Accuracy: 67.68%\n",
      "Mean prediction confidence: 0.78\n",
      "Mean prediction confidence (correct): 0.87\n",
      "Mean prediction confidence (incorrect): 0.59\n"
     ]
    }
   ],
   "source": [
    "# Print model performance statistics\n",
    "predictions = [np.argmax(output) for output in outputs]\n",
    "correct = [i for i, label in enumerate(labels) if label == predictions[i]]\n",
    "incorrect = [i for i, label in enumerate(labels) if label != predictions[i]]\n",
    "print(f'MODEL STATS:')\n",
    "print(f'Accuracy: {len(correct) / len(labels):.2%}')\n",
    "print(f'Mean prediction confidence: {np.mean([np.max(output) for output in outputs]):.2f}')\n",
    "print(f'Mean prediction confidence (correct): {np.mean([np.max(outputs[i]) for i in correct]):.2f}')\n",
    "print(f'Mean prediction confidence (incorrect): {np.mean([np.max(outputs[i]) for i in incorrect]):.2f}')"
   ]
  },
  {
   "cell_type": "markdown",
   "id": "2279f9f2-a94d-4a79-9650-d329545c22d2",
   "metadata": {},
   "source": [
    "### Compute Abstraction Alignment"
   ]
  },
  {
   "cell_type": "code",
   "execution_count": 8,
   "id": "dd9a76c9-b727-49c1-a22b-1c7d6bc00eb6",
   "metadata": {
    "scrolled": true,
    "tags": []
   },
   "outputs": [
    {
     "name": "stdout",
     "output_type": "stream",
     "text": [
      "CIFAR-100 tree with 121 nodes across 3 levels.\n",
      "root (None)\n",
      "├── aquatic_mammals (None)\n",
      "│   ├── beaver (None)\n",
      "│   ├── dolphin (None)\n",
      "│   ├── otter (None)\n",
      "│   ├── seal (None)\n",
      "│   └── whale (None)\n",
      "├── fish (None)\n",
      "│   ├── aquarium_fish (None)\n",
      "│   ├── flatfish (None)\n",
      "│   ├── ray (None)\n",
      "│   ├── shark (None)\n",
      "│   └── trout (None)\n",
      "├── flowers (None)\n",
      "│   ├── orchid (None)\n",
      "│   ├── poppy (None)\n",
      "│   ├── rose (None)\n",
      "│   ├── sunflower (None)\n",
      "│   └── tulip (None)\n",
      "├── food_containers (None)\n",
      "│   ├── bottle (None)\n",
      "│   ├── bowl (None)\n",
      "│   ├── can (None)\n",
      "│   ├── cup (None)\n",
      "│   └── plate (None)\n",
      "├── fruit_and_vegetables (None)\n",
      "│   ├── apple (None)\n",
      "│   ├── mushroom (None)\n",
      "│   ├── orange (None)\n",
      "│   ├── pear (None)\n",
      "│   └── sweet_pepper (None)\n",
      "├── household_electrical_devices (None)\n",
      "│   ├── clock (None)\n",
      "│   ├── keyboard (None)\n",
      "│   ├── lamp (None)\n",
      "│   ├── telephone (None)\n",
      "│   └── television (None)\n",
      "├── household_furniture (None)\n",
      "│   ├── bed (None)\n",
      "│   ├── chair (None)\n",
      "│   ├── couch (None)\n",
      "│   ├── table (None)\n",
      "│   └── wardrobe (None)\n",
      "├── insects (None)\n",
      "│   ├── bee (None)\n",
      "│   ├── beetle (None)\n",
      "│   ├── butterfly (None)\n",
      "│   ├── caterpillar (None)\n",
      "│   └── cockroach (None)\n",
      "├── large_carnivores (None)\n",
      "│   ├── bear (None)\n",
      "│   ├── leopard (None)\n",
      "│   ├── lion (None)\n",
      "│   ├── tiger (None)\n",
      "│   └── wolf (None)\n",
      "├── large_man-made_outdoor_things (None)\n",
      "│   ├── bridge (None)\n",
      "│   ├── castle (None)\n",
      "│   ├── house (None)\n",
      "│   ├── road (None)\n",
      "│   └── skyscraper (None)\n",
      "├── large_natural_outdoor_scenes (None)\n",
      "│   ├── cloud (None)\n",
      "│   ├── forest (None)\n",
      "│   ├── mountain (None)\n",
      "│   ├── plain (None)\n",
      "│   └── sea (None)\n",
      "├── large_omnivores_and_herbivores (None)\n",
      "│   ├── camel (None)\n",
      "│   ├── cattle (None)\n",
      "│   ├── chimpanzee (None)\n",
      "│   ├── elephant (None)\n",
      "│   └── kangaroo (None)\n",
      "├── medium_mammals (None)\n",
      "│   ├── fox (None)\n",
      "│   ├── porcupine (None)\n",
      "│   ├── possum (None)\n",
      "│   ├── raccoon (None)\n",
      "│   └── skunk (None)\n",
      "├── non-insect_invertebrates (None)\n",
      "│   ├── crab (None)\n",
      "│   ├── lobster (None)\n",
      "│   ├── snail (None)\n",
      "│   ├── spider (None)\n",
      "│   └── worm (None)\n",
      "├── people (None)\n",
      "│   ├── baby (None)\n",
      "│   ├── boy (None)\n",
      "│   ├── girl (None)\n",
      "│   ├── man (None)\n",
      "│   └── woman (None)\n",
      "├── reptiles (None)\n",
      "│   ├── crocodile (None)\n",
      "│   ├── dinosaur (None)\n",
      "│   ├── lizard (None)\n",
      "│   ├── snake (None)\n",
      "│   └── turtle (None)\n",
      "├── small_mammals (None)\n",
      "│   ├── hamster (None)\n",
      "│   ├── mouse (None)\n",
      "│   ├── rabbit (None)\n",
      "│   ├── shrew (None)\n",
      "│   └── squirrel (None)\n",
      "├── trees (None)\n",
      "│   ├── maple_tree (None)\n",
      "│   ├── oak_tree (None)\n",
      "│   ├── palm_tree (None)\n",
      "│   ├── pine_tree (None)\n",
      "│   └── willow_tree (None)\n",
      "├── vehicles_1 (None)\n",
      "│   ├── bicycle (None)\n",
      "│   ├── bus (None)\n",
      "│   ├── motorcycle (None)\n",
      "│   ├── pickup_truck (None)\n",
      "│   └── train (None)\n",
      "└── vehicles_2 (None)\n",
      "    ├── lawn_mower (None)\n",
      "    ├── rocket (None)\n",
      "    ├── streetcar (None)\n",
      "    ├── tank (None)\n",
      "    └── tractor (None)\n",
      "\n"
     ]
    }
   ],
   "source": [
    "# Load the human hierarchy --- i.e., the CIFAR-100 class and superclass structure\n",
    "tree = cifar.make_tree()\n",
    "print(f'CIFAR-100 tree with {tree.size()} nodes across {tree.depth() + 1} levels.')\n",
    "print(cifar.show(tree))"
   ]
  },
  {
   "cell_type": "code",
   "execution_count": 9,
   "id": "20e03894-e9a2-4367-834b-96e457a30723",
   "metadata": {},
   "outputs": [
    {
     "name": "stderr",
     "output_type": "stream",
     "text": [
      "100%|█████████████████████████████████████████████████████████████████████████████████████████████████████████████████████████████████████████| 10000/10000 [01:14<00:00, 134.40it/s]\n"
     ]
    }
   ],
   "source": [
    "# Measure abstraction alignment by propagating model outputs through the hierarchy\n",
    "trees = []\n",
    "for i in tqdm(range(len(labels))):\n",
    "    tree = cifar.propagate(outputs[i], cifar.make_tree())\n",
    "    trees.append(tree)"
   ]
  },
  {
   "cell_type": "code",
   "execution_count": 10,
   "id": "5319d3d7-c975-4dbb-9c3c-aed2e4f8dfc8",
   "metadata": {
    "scrolled": true,
    "tags": []
   },
   "outputs": [
    {
     "name": "stdout",
     "output_type": "stream",
     "text": [
      "CIFAR-100 IMAGE\n"
     ]
    },
    {
     "data": {
      "image/png": "[encoded data removed]",
      "text/plain": [
       "<Figure size 432x288 with 1 Axes>"
      ]
     },
     "metadata": {
      "needs_background": "light"
     },
     "output_type": "display_data"
    },
    {
     "name": "stdout",
     "output_type": "stream",
     "text": [
      "TOP PREDICTED CLASSES:  ['train (0.37)', 'road (0.18)', 'spider (0.17)']\n",
      "PROPAGATED TREE:\n",
      "root (1.00)\n",
      "├── aquatic_mammals (0.03)\n",
      "│   ├── beaver (0.00)\n",
      "│   ├── dolphin (0.00)\n",
      "│   ├── otter (0.00)\n",
      "│   ├── seal (0.02)\n",
      "│   └── whale (0.00)\n",
      "├── fish (0.00)\n",
      "│   ├── aquarium_fish (0.00)\n",
      "│   ├── flatfish (0.00)\n",
      "│   ├── ray (0.00)\n",
      "│   ├── shark (0.00)\n",
      "│   └── trout (0.00)\n",
      "├── flowers (0.00)\n",
      "│   ├── orchid (0.00)\n",
      "│   ├── poppy (0.00)\n",
      "│   ├── rose (0.00)\n",
      "│   ├── sunflower (0.00)\n",
      "│   └── tulip (0.00)\n",
      "├── food_containers (0.00)\n",
      "│   ├── bottle (0.00)\n",
      "│   ├── bowl (0.00)\n",
      "│   ├── can (0.00)\n",
      "│   ├── cup (0.00)\n",
      "│   └── plate (0.00)\n",
      "├── fruit_and_vegetables (0.00)\n",
      "│   ├── apple (0.00)\n",
      "│   ├── mushroom (0.00)\n",
      "│   ├── orange (0.00)\n",
      "│   ├── pear (0.00)\n",
      "│   └── sweet_pepper (0.00)\n",
      "├── household_electrical_devices (0.00)\n",
      "│   ├── clock (0.00)\n",
      "│   ├── keyboard (0.00)\n",
      "│   ├── lamp (0.00)\n",
      "│   ├── telephone (0.00)\n",
      "│   └── television (0.00)\n",
      "├── household_furniture (0.01)\n",
      "│   ├── bed (0.00)\n",
      "│   ├── chair (0.00)\n",
      "│   ├── couch (0.01)\n",
      "│   ├── table (0.00)\n",
      "│   └── wardrobe (0.00)\n",
      "├── insects (0.03)\n",
      "│   ├── bee (0.00)\n",
      "│   ├── beetle (0.00)\n",
      "│   ├── butterfly (0.00)\n",
      "│   ├── caterpillar (0.00)\n",
      "│   └── cockroach (0.03)\n",
      "├── large_carnivores (0.00)\n",
      "│   ├── bear (0.00)\n",
      "│   ├── leopard (0.00)\n",
      "│   ├── lion (0.00)\n",
      "│   ├── tiger (0.00)\n",
      "│   └── wolf (0.00)\n",
      "├── large_man-made_outdoor_things (0.20)\n",
      "│   ├── bridge (0.01)\n",
      "│   ├── castle (0.00)\n",
      "│   ├── house (0.00)\n",
      "│   ├── road (0.18)\n",
      "│   └── skyscraper (0.01)\n",
      "├── large_natural_outdoor_scenes (0.01)\n",
      "│   ├── cloud (0.00)\n",
      "│   ├── forest (0.00)\n",
      "│   ├── mountain (0.00)\n",
      "│   ├── plain (0.00)\n",
      "│   └── sea (0.00)\n",
      "├── large_omnivores_and_herbivores (0.01)\n",
      "│   ├── camel (0.00)\n",
      "│   ├── cattle (0.00)\n",
      "│   ├── chimpanzee (0.00)\n",
      "│   ├── elephant (0.00)\n",
      "│   └── kangaroo (0.00)\n",
      "├── medium_mammals (0.00)\n",
      "│   ├── fox (0.00)\n",
      "│   ├── porcupine (0.00)\n",
      "│   ├── possum (0.00)\n",
      "│   ├── raccoon (0.00)\n",
      "│   └── skunk (0.00)\n",
      "├── non-insect_invertebrates (0.17)\n",
      "│   ├── crab (0.00)\n",
      "│   ├── lobster (0.00)\n",
      "│   ├── snail (0.00)\n",
      "│   ├── spider (0.17)\n",
      "│   └── worm (0.00)\n",
      "├── people (0.01)\n",
      "│   ├── baby (0.00)\n",
      "│   ├── boy (0.00)\n",
      "│   ├── girl (0.01)\n",
      "│   ├── man (0.00)\n",
      "│   └── woman (0.00)\n",
      "├── reptiles (0.00)\n",
      "│   ├── crocodile (0.00)\n",
      "│   ├── dinosaur (0.00)\n",
      "│   ├── lizard (0.00)\n",
      "│   ├── snake (0.00)\n",
      "│   └── turtle (0.00)\n",
      "├── small_mammals (0.00)\n",
      "│   ├── hamster (0.00)\n",
      "│   ├── mouse (0.00)\n",
      "│   ├── rabbit (0.00)\n",
      "│   ├── shrew (0.00)\n",
      "│   └── squirrel (0.00)\n",
      "├── trees (0.12)\n",
      "│   ├── maple_tree (0.00)\n",
      "│   ├── oak_tree (0.00)\n",
      "│   ├── palm_tree (0.12)\n",
      "│   ├── pine_tree (0.00)\n",
      "│   └── willow_tree (0.00)\n",
      "├── vehicles_1 (0.37)\n",
      "│   ├── bicycle (0.00)\n",
      "│   ├── bus (0.00)\n",
      "│   ├── motorcycle (0.00)\n",
      "│   ├── pickup_truck (0.00)\n",
      "│   └── train (0.37)\n",
      "└── vehicles_2 (0.04)\n",
      "    ├── lawn_mower (0.00)\n",
      "    ├── rocket (0.00)\n",
      "    ├── streetcar (0.04)\n",
      "    ├── tank (0.00)\n",
      "    └── tractor (0.00)\n",
      "\n"
     ]
    }
   ],
   "source": [
    "# An example hierarchy propagation\n",
    "index = 0\n",
    "\n",
    "print('CIFAR-100 IMAGE')\n",
    "image = test_dataset[index][0].permute(1, 2, 0)\n",
    "plt.imshow(cifar_util.unnorm_cifar_image(image))\n",
    "plt.axis('off')\n",
    "plt.title(f'L: {cifar_metadata.CLASS_LABELS[labels[index]]}\\nP: {cifar_metadata.CLASS_LABELS[predictions[index]]}')\n",
    "plt.show()\n",
    "\n",
    "top_predictions = np.argsort(outputs[index])[-3:]\n",
    "print('TOP PREDICTED CLASSES: ', [f'{cifar_metadata.CLASS_LABELS[i]} ({outputs[index][i]:.2f})' for i in top_predictions][::-1])\n",
    "\n",
    "print('PROPAGATED TREE:')\n",
    "print(cifar.show(trees[0]))"
   ]
  },
  {
   "cell_type": "markdown",
   "id": "6838c642-092d-4484-980c-efa473037f5c",
   "metadata": {},
   "source": [
    "### Analysis of model abstraction alignment"
   ]
  },
  {
   "cell_type": "code",
   "execution_count": 11,
   "id": "9e62a4d3-19d8-4206-8686-699947be8992",
   "metadata": {},
   "outputs": [
    {
     "name": "stdout",
     "output_type": "stream",
     "text": [
      "Mean entropy at each level of abstraction:\tLevel 0 = 0.00 Level 1 = 0.43 Level 2 = 0.71 \n"
     ]
    }
   ],
   "source": [
    "# Numerical statistics about abstraction alignment\n",
    "def print_stats(level_stats):\n",
    "    string = ''\n",
    "    for level, value in enumerate(level_stats):\n",
    "        string += f'Level {level} = {value:.2f} '\n",
    "    return string\n",
    "\n",
    "level_nodes = {}\n",
    "for level in range(tree.depth() + 1):\n",
    "    nodes = tree.filter_nodes(lambda x: tree.depth(x) == level)\n",
    "    level_nodes[level] = [node.identifier for node in nodes]\n",
    "\n",
    "mean_probabilities = []\n",
    "entropies = []\n",
    "for tree in trees:\n",
    "    tree_mean_probability = []\n",
    "    tree_entropy = []\n",
    "    for level, node_ids in level_nodes.items():\n",
    "        values = [tree.get_node(node_id).data for node_id in node_ids]\n",
    "        tree_mean_probability.append(np.mean(values))\n",
    "        tree_entropy.append(stats.entropy(values))\n",
    "    mean_probabilities.append(tree_mean_probability)\n",
    "    entropies.append(tree_entropy)\n",
    "mean_probabilities = np.vstack(mean_probabilities)\n",
    "entropies = np.vstack(entropies)\n",
    "\n",
    "print(f'Mean entropy at each level of abstraction:\\t{print_stats(entropies.mean(axis=0))}')"
   ]
  },
  {
   "cell_type": "markdown",
   "id": "17a8cfd6-dfd7-43e0-8f71-d792859d6dbd",
   "metadata": {},
   "source": [
    "#### Examples of different behavior types"
   ]
  },
  {
   "cell_type": "code",
   "execution_count": 12,
   "id": "e40c3529-edac-401c-9b3a-e16adb91573e",
   "metadata": {},
   "outputs": [],
   "source": [
    "def show_examples(indicies, num_examples):\n",
    "    if len(indicies) > 0:\n",
    "        example_inds = np.random.choice(indicies, num_examples)\n",
    "        plot_images(example_inds)\n",
    "        plt.show()\n",
    "        print(cifar.show(trees[example_inds[0]]))\n",
    "\n",
    "def plot_images(indicies):\n",
    "    fig, ax = plt.subplots(nrows=1, ncols=len(indicies))\n",
    "    if type(ax) != list:\n",
    "        ax = [ax]\n",
    "    for i, index in enumerate(indicies):\n",
    "        ax[i].imshow(cifar_util.unnorm_cifar_image(test_dataset[index][0].permute(1, 2, 0)))\n",
    "        ax[i].axis('off')\n",
    "    return fig"
   ]
  },
  {
   "cell_type": "code",
   "execution_count": 13,
   "id": "2e06d117-dabb-4127-8eae-e6fe88e0e49f",
   "metadata": {
    "scrolled": true,
    "tags": []
   },
   "outputs": [
    {
     "name": "stdout",
     "output_type": "stream",
     "text": [
      "90 images where the model is fully confident in one output.\n"
     ]
    },
    {
     "data": {
      "image/png": "[encoded data removed]",
      "text/plain": [
       "<Figure size 432x288 with 1 Axes>"
      ]
     },
     "metadata": {
      "needs_background": "light"
     },
     "output_type": "display_data"
    },
    {
     "name": "stdout",
     "output_type": "stream",
     "text": [
      "root (1.00)\n",
      "├── aquatic_mammals (0.00)\n",
      "│   ├── beaver (0.00)\n",
      "│   ├── dolphin (0.00)\n",
      "│   ├── otter (0.00)\n",
      "│   ├── seal (0.00)\n",
      "│   └── whale (0.00)\n",
      "├── fish (0.00)\n",
      "│   ├── aquarium_fish (0.00)\n",
      "│   ├── flatfish (0.00)\n",
      "│   ├── ray (0.00)\n",
      "│   ├── shark (0.00)\n",
      "│   └── trout (0.00)\n",
      "├── flowers (0.00)\n",
      "│   ├── orchid (0.00)\n",
      "│   ├── poppy (0.00)\n",
      "│   ├── rose (0.00)\n",
      "│   ├── sunflower (0.00)\n",
      "│   └── tulip (0.00)\n",
      "├── food_containers (0.00)\n",
      "│   ├── bottle (0.00)\n",
      "│   ├── bowl (0.00)\n",
      "│   ├── can (0.00)\n",
      "│   ├── cup (0.00)\n",
      "│   └── plate (0.00)\n",
      "├── fruit_and_vegetables (0.00)\n",
      "│   ├── apple (0.00)\n",
      "│   ├── mushroom (0.00)\n",
      "│   ├── orange (0.00)\n",
      "│   ├── pear (0.00)\n",
      "│   └── sweet_pepper (0.00)\n",
      "├── household_electrical_devices (0.00)\n",
      "│   ├── clock (0.00)\n",
      "│   ├── keyboard (0.00)\n",
      "│   ├── lamp (0.00)\n",
      "│   ├── telephone (0.00)\n",
      "│   └── television (0.00)\n",
      "├── household_furniture (0.00)\n",
      "│   ├── bed (0.00)\n",
      "│   ├── chair (0.00)\n",
      "│   ├── couch (0.00)\n",
      "│   ├── table (0.00)\n",
      "│   └── wardrobe (0.00)\n",
      "├── insects (1.00)\n",
      "│   ├── bee (0.00)\n",
      "│   ├── beetle (1.00)\n",
      "│   ├── butterfly (0.00)\n",
      "│   ├── caterpillar (0.00)\n",
      "│   └── cockroach (0.00)\n",
      "├── large_carnivores (0.00)\n",
      "│   ├── bear (0.00)\n",
      "│   ├── leopard (0.00)\n",
      "│   ├── lion (0.00)\n",
      "│   ├── tiger (0.00)\n",
      "│   └── wolf (0.00)\n",
      "├── large_man-made_outdoor_things (0.00)\n",
      "│   ├── bridge (0.00)\n",
      "│   ├── castle (0.00)\n",
      "│   ├── house (0.00)\n",
      "│   ├── road (0.00)\n",
      "│   └── skyscraper (0.00)\n",
      "├── large_natural_outdoor_scenes (0.00)\n",
      "│   ├── cloud (0.00)\n",
      "│   ├── forest (0.00)\n",
      "│   ├── mountain (0.00)\n",
      "│   ├── plain (0.00)\n",
      "│   └── sea (0.00)\n",
      "├── large_omnivores_and_herbivores (0.00)\n",
      "│   ├── camel (0.00)\n",
      "│   ├── cattle (0.00)\n",
      "│   ├── chimpanzee (0.00)\n",
      "│   ├── elephant (0.00)\n",
      "│   └── kangaroo (0.00)\n",
      "├── medium_mammals (0.00)\n",
      "│   ├── fox (0.00)\n",
      "│   ├── porcupine (0.00)\n",
      "│   ├── possum (0.00)\n",
      "│   ├── raccoon (0.00)\n",
      "│   └── skunk (0.00)\n",
      "├── non-insect_invertebrates (0.00)\n",
      "│   ├── crab (0.00)\n",
      "│   ├── lobster (0.00)\n",
      "│   ├── snail (0.00)\n",
      "│   ├── spider (0.00)\n",
      "│   └── worm (0.00)\n",
      "├── people (0.00)\n",
      "│   ├── baby (0.00)\n",
      "│   ├── boy (0.00)\n",
      "│   ├── girl (0.00)\n",
      "│   ├── man (0.00)\n",
      "│   └── woman (0.00)\n",
      "├── reptiles (0.00)\n",
      "│   ├── crocodile (0.00)\n",
      "│   ├── dinosaur (0.00)\n",
      "│   ├── lizard (0.00)\n",
      "│   ├── snake (0.00)\n",
      "│   └── turtle (0.00)\n",
      "├── small_mammals (0.00)\n",
      "│   ├── hamster (0.00)\n",
      "│   ├── mouse (0.00)\n",
      "│   ├── rabbit (0.00)\n",
      "│   ├── shrew (0.00)\n",
      "│   └── squirrel (0.00)\n",
      "├── trees (0.00)\n",
      "│   ├── maple_tree (0.00)\n",
      "│   ├── oak_tree (0.00)\n",
      "│   ├── palm_tree (0.00)\n",
      "│   ├── pine_tree (0.00)\n",
      "│   └── willow_tree (0.00)\n",
      "├── vehicles_1 (0.00)\n",
      "│   ├── bicycle (0.00)\n",
      "│   ├── bus (0.00)\n",
      "│   ├── motorcycle (0.00)\n",
      "│   ├── pickup_truck (0.00)\n",
      "│   └── train (0.00)\n",
      "└── vehicles_2 (0.00)\n",
      "    ├── lawn_mower (0.00)\n",
      "    ├── rocket (0.00)\n",
      "    ├── streetcar (0.00)\n",
      "    ├── tank (0.00)\n",
      "    └── tractor (0.00)\n",
      "\n"
     ]
    }
   ],
   "source": [
    "# Fully confident in an output class\n",
    "fully_confident = [i for i, entropy in enumerate(entropies) if entropy[-1] < 0.0001]\n",
    "print(f'{len(fully_confident)} images where the model is fully confident in one output.')\n",
    "show_examples(fully_confident, 1)"
   ]
  },
  {
   "cell_type": "code",
   "execution_count": 14,
   "id": "408cba43-e59f-4144-a4ac-7f4234d62cfe",
   "metadata": {
    "scrolled": true,
    "tags": []
   },
   "outputs": [
    {
     "name": "stdout",
     "output_type": "stream",
     "text": [
      "310 images where the model is fully confident in a superclass.\n"
     ]
    },
    {
     "data": {
      "image/png": "[encoded data removed]",
      "text/plain": [
       "<Figure size 432x288 with 1 Axes>"
      ]
     },
     "metadata": {
      "needs_background": "light"
     },
     "output_type": "display_data"
    },
    {
     "name": "stdout",
     "output_type": "stream",
     "text": [
      "root (1.00)\n",
      "├── aquatic_mammals (0.00)\n",
      "│   ├── beaver (0.00)\n",
      "│   ├── dolphin (0.00)\n",
      "│   ├── otter (0.00)\n",
      "│   ├── seal (0.00)\n",
      "│   └── whale (0.00)\n",
      "├── fish (0.00)\n",
      "│   ├── aquarium_fish (0.00)\n",
      "│   ├── flatfish (0.00)\n",
      "│   ├── ray (0.00)\n",
      "│   ├── shark (0.00)\n",
      "│   └── trout (0.00)\n",
      "├── flowers (0.00)\n",
      "│   ├── orchid (0.00)\n",
      "│   ├── poppy (0.00)\n",
      "│   ├── rose (0.00)\n",
      "│   ├── sunflower (0.00)\n",
      "│   └── tulip (0.00)\n",
      "├── food_containers (0.00)\n",
      "│   ├── bottle (0.00)\n",
      "│   ├── bowl (0.00)\n",
      "│   ├── can (0.00)\n",
      "│   ├── cup (0.00)\n",
      "│   └── plate (0.00)\n",
      "├── fruit_and_vegetables (0.00)\n",
      "│   ├── apple (0.00)\n",
      "│   ├── mushroom (0.00)\n",
      "│   ├── orange (0.00)\n",
      "│   ├── pear (0.00)\n",
      "│   └── sweet_pepper (0.00)\n",
      "├── household_electrical_devices (0.00)\n",
      "│   ├── clock (0.00)\n",
      "│   ├── keyboard (0.00)\n",
      "│   ├── lamp (0.00)\n",
      "│   ├── telephone (0.00)\n",
      "│   └── television (0.00)\n",
      "├── household_furniture (0.00)\n",
      "│   ├── bed (0.00)\n",
      "│   ├── chair (0.00)\n",
      "│   ├── couch (0.00)\n",
      "│   ├── table (0.00)\n",
      "│   └── wardrobe (0.00)\n",
      "├── insects (0.00)\n",
      "│   ├── bee (0.00)\n",
      "│   ├── beetle (0.00)\n",
      "│   ├── butterfly (0.00)\n",
      "│   ├── caterpillar (0.00)\n",
      "│   └── cockroach (0.00)\n",
      "├── large_carnivores (0.00)\n",
      "│   ├── bear (0.00)\n",
      "│   ├── leopard (0.00)\n",
      "│   ├── lion (0.00)\n",
      "│   ├── tiger (0.00)\n",
      "│   └── wolf (0.00)\n",
      "├── large_man-made_outdoor_things (1.00)\n",
      "│   ├── bridge (0.00)\n",
      "│   ├── castle (0.00)\n",
      "│   ├── house (1.00)\n",
      "│   ├── road (0.00)\n",
      "│   └── skyscraper (0.00)\n",
      "├── large_natural_outdoor_scenes (0.00)\n",
      "│   ├── cloud (0.00)\n",
      "│   ├── forest (0.00)\n",
      "│   ├── mountain (0.00)\n",
      "│   ├── plain (0.00)\n",
      "│   └── sea (0.00)\n",
      "├── large_omnivores_and_herbivores (0.00)\n",
      "│   ├── camel (0.00)\n",
      "│   ├── cattle (0.00)\n",
      "│   ├── chimpanzee (0.00)\n",
      "│   ├── elephant (0.00)\n",
      "│   └── kangaroo (0.00)\n",
      "├── medium_mammals (0.00)\n",
      "│   ├── fox (0.00)\n",
      "│   ├── porcupine (0.00)\n",
      "│   ├── possum (0.00)\n",
      "│   ├── raccoon (0.00)\n",
      "│   └── skunk (0.00)\n",
      "├── non-insect_invertebrates (0.00)\n",
      "│   ├── crab (0.00)\n",
      "│   ├── lobster (0.00)\n",
      "│   ├── snail (0.00)\n",
      "│   ├── spider (0.00)\n",
      "│   └── worm (0.00)\n",
      "├── people (0.00)\n",
      "│   ├── baby (0.00)\n",
      "│   ├── boy (0.00)\n",
      "│   ├── girl (0.00)\n",
      "│   ├── man (0.00)\n",
      "│   └── woman (0.00)\n",
      "├── reptiles (0.00)\n",
      "│   ├── crocodile (0.00)\n",
      "│   ├── dinosaur (0.00)\n",
      "│   ├── lizard (0.00)\n",
      "│   ├── snake (0.00)\n",
      "│   └── turtle (0.00)\n",
      "├── small_mammals (0.00)\n",
      "│   ├── hamster (0.00)\n",
      "│   ├── mouse (0.00)\n",
      "│   ├── rabbit (0.00)\n",
      "│   ├── shrew (0.00)\n",
      "│   └── squirrel (0.00)\n",
      "├── trees (0.00)\n",
      "│   ├── maple_tree (0.00)\n",
      "│   ├── oak_tree (0.00)\n",
      "│   ├── palm_tree (0.00)\n",
      "│   ├── pine_tree (0.00)\n",
      "│   └── willow_tree (0.00)\n",
      "├── vehicles_1 (0.00)\n",
      "│   ├── bicycle (0.00)\n",
      "│   ├── bus (0.00)\n",
      "│   ├── motorcycle (0.00)\n",
      "│   ├── pickup_truck (0.00)\n",
      "│   └── train (0.00)\n",
      "└── vehicles_2 (0.00)\n",
      "    ├── lawn_mower (0.00)\n",
      "    ├── rocket (0.00)\n",
      "    ├── streetcar (0.00)\n",
      "    ├── tank (0.00)\n",
      "    └── tractor (0.00)\n",
      "\n"
     ]
    }
   ],
   "source": [
    "# Fully confident at the superclass level\n",
    "superclass_confident = [i for i, entropy in enumerate(entropies) if entropy[1] < 0.0001]\n",
    "print(f'{len(superclass_confident)} images where the model is fully confident in a superclass.')\n",
    "show_examples(superclass_confident, 1)"
   ]
  },
  {
   "cell_type": "code",
   "execution_count": 15,
   "id": "078b14ef-a4cd-4f3e-8c7c-bd32b984a4e9",
   "metadata": {
    "scrolled": true,
    "tags": []
   },
   "outputs": [
    {
     "name": "stdout",
     "output_type": "stream",
     "text": [
      "1151 images where the model is split between two superclass.\n"
     ]
    },
    {
     "data": {
      "image/png": "[encoded data removed]",
      "text/plain": [
       "<Figure size 432x288 with 1 Axes>"
      ]
     },
     "metadata": {
      "needs_background": "light"
     },
     "output_type": "display_data"
    },
    {
     "name": "stdout",
     "output_type": "stream",
     "text": [
      "root (1.00)\n",
      "├── aquatic_mammals (0.00)\n",
      "│   ├── beaver (0.00)\n",
      "│   ├── dolphin (0.00)\n",
      "│   ├── otter (0.00)\n",
      "│   ├── seal (0.00)\n",
      "│   └── whale (0.00)\n",
      "├── fish (0.00)\n",
      "│   ├── aquarium_fish (0.00)\n",
      "│   ├── flatfish (0.00)\n",
      "│   ├── ray (0.00)\n",
      "│   ├── shark (0.00)\n",
      "│   └── trout (0.00)\n",
      "├── flowers (0.00)\n",
      "│   ├── orchid (0.00)\n",
      "│   ├── poppy (0.00)\n",
      "│   ├── rose (0.00)\n",
      "│   ├── sunflower (0.00)\n",
      "│   └── tulip (0.00)\n",
      "├── food_containers (0.00)\n",
      "│   ├── bottle (0.00)\n",
      "│   ├── bowl (0.00)\n",
      "│   ├── can (0.00)\n",
      "│   ├── cup (0.00)\n",
      "│   └── plate (0.00)\n",
      "├── fruit_and_vegetables (0.00)\n",
      "│   ├── apple (0.00)\n",
      "│   ├── mushroom (0.00)\n",
      "│   ├── orange (0.00)\n",
      "│   ├── pear (0.00)\n",
      "│   └── sweet_pepper (0.00)\n",
      "├── household_electrical_devices (0.00)\n",
      "│   ├── clock (0.00)\n",
      "│   ├── keyboard (0.00)\n",
      "│   ├── lamp (0.00)\n",
      "│   ├── telephone (0.00)\n",
      "│   └── television (0.00)\n",
      "├── household_furniture (0.00)\n",
      "│   ├── bed (0.00)\n",
      "│   ├── chair (0.00)\n",
      "│   ├── couch (0.00)\n",
      "│   ├── table (0.00)\n",
      "│   └── wardrobe (0.00)\n",
      "├── insects (0.00)\n",
      "│   ├── bee (0.00)\n",
      "│   ├── beetle (0.00)\n",
      "│   ├── butterfly (0.00)\n",
      "│   ├── caterpillar (0.00)\n",
      "│   └── cockroach (0.00)\n",
      "├── large_carnivores (0.00)\n",
      "│   ├── bear (0.00)\n",
      "│   ├── leopard (0.00)\n",
      "│   ├── lion (0.00)\n",
      "│   ├── tiger (0.00)\n",
      "│   └── wolf (0.00)\n",
      "├── large_man-made_outdoor_things (0.00)\n",
      "│   ├── bridge (0.00)\n",
      "│   ├── castle (0.00)\n",
      "│   ├── house (0.00)\n",
      "│   ├── road (0.00)\n",
      "│   └── skyscraper (0.00)\n",
      "├── large_natural_outdoor_scenes (0.00)\n",
      "│   ├── cloud (0.00)\n",
      "│   ├── forest (0.00)\n",
      "│   ├── mountain (0.00)\n",
      "│   ├── plain (0.00)\n",
      "│   └── sea (0.00)\n",
      "├── large_omnivores_and_herbivores (0.00)\n",
      "│   ├── camel (0.00)\n",
      "│   ├── cattle (0.00)\n",
      "│   ├── chimpanzee (0.00)\n",
      "│   ├── elephant (0.00)\n",
      "│   └── kangaroo (0.00)\n",
      "├── medium_mammals (0.00)\n",
      "│   ├── fox (0.00)\n",
      "│   ├── porcupine (0.00)\n",
      "│   ├── possum (0.00)\n",
      "│   ├── raccoon (0.00)\n",
      "│   └── skunk (0.00)\n",
      "├── non-insect_invertebrates (0.00)\n",
      "│   ├── crab (0.00)\n",
      "│   ├── lobster (0.00)\n",
      "│   ├── snail (0.00)\n",
      "│   ├── spider (0.00)\n",
      "│   └── worm (0.00)\n",
      "├── people (0.00)\n",
      "│   ├── baby (0.00)\n",
      "│   ├── boy (0.00)\n",
      "│   ├── girl (0.00)\n",
      "│   ├── man (0.00)\n",
      "│   └── woman (0.00)\n",
      "├── reptiles (0.00)\n",
      "│   ├── crocodile (0.00)\n",
      "│   ├── dinosaur (0.00)\n",
      "│   ├── lizard (0.00)\n",
      "│   ├── snake (0.00)\n",
      "│   └── turtle (0.00)\n",
      "├── small_mammals (0.00)\n",
      "│   ├── hamster (0.00)\n",
      "│   ├── mouse (0.00)\n",
      "│   ├── rabbit (0.00)\n",
      "│   ├── shrew (0.00)\n",
      "│   └── squirrel (0.00)\n",
      "├── trees (0.00)\n",
      "│   ├── maple_tree (0.00)\n",
      "│   ├── oak_tree (0.00)\n",
      "│   ├── palm_tree (0.00)\n",
      "│   ├── pine_tree (0.00)\n",
      "│   └── willow_tree (0.00)\n",
      "├── vehicles_1 (0.00)\n",
      "│   ├── bicycle (0.00)\n",
      "│   ├── bus (0.00)\n",
      "│   ├── motorcycle (0.00)\n",
      "│   ├── pickup_truck (0.00)\n",
      "│   └── train (0.00)\n",
      "└── vehicles_2 (1.00)\n",
      "    ├── lawn_mower (0.00)\n",
      "    ├── rocket (0.00)\n",
      "    ├── streetcar (0.00)\n",
      "    ├── tank (0.00)\n",
      "    └── tractor (1.00)\n",
      "\n"
     ]
    }
   ],
   "source": [
    "# Confidence in two subtrees\n",
    "two_subtrees = []\n",
    "superclass_nodes = list(tree.filter_nodes(lambda x: tree.depth(x) == 1))\n",
    "for i, tree in enumerate(trees):\n",
    "    values = [tree.get_node(node.identifier).data for node in superclass_nodes]\n",
    "    if len([1 for value in values if value > 0.0001]) == 2:\n",
    "        two_subtrees.append(i)\n",
    "    \n",
    "\n",
    "print(f'{len(two_subtrees)} images where the model is split between two superclass.')\n",
    "show_examples(two_subtrees, 1)"
   ]
  },
  {
   "cell_type": "markdown",
   "id": "3f87cdc1-0abf-4894-b993-50af55b59aeb",
   "metadata": {},
   "source": [
    "#### Examples of common confusions"
   ]
  },
  {
   "cell_type": "code",
   "execution_count": 16,
   "id": "5665ccc7-4cde-4929-a815-3b23ca7c62ed",
   "metadata": {},
   "outputs": [
    {
     "name": "stderr",
     "output_type": "stream",
     "text": [
      "100%|██████████████████████████████████████████████████████████████████████████████████████████████████████████████████████████████████████████| 10000/10000 [08:09<00:00, 20.43it/s]\n"
     ]
    }
   ],
   "source": [
    "all_nodes = tree.nodes\n",
    "node_pairs = {combo: 0 for combo in combinations(all_nodes.keys(), 2) if 'root' not in combo}\n",
    "for tree in tqdm(trees):\n",
    "    for node_a_id, node_b_id in node_pairs:\n",
    "        node_a = tree.get_node(node_a_id)\n",
    "        node_b = tree.get_node(node_b_id)\n",
    "        if node_a.data < 0.01 or node_b.data < 0.01:\n",
    "            continue\n",
    "        value = stats.entropy([node_a.data, node_b.data])\n",
    "        node_pairs[(node_a.identifier, node_b.identifier)] += value"
   ]
  },
  {
   "cell_type": "code",
   "execution_count": 21,
   "id": "21366bd0-10e6-457b-873f-c7ca21a3c8c7",
   "metadata": {},
   "outputs": [
    {
     "name": "stdout",
     "output_type": "stream",
     "text": [
      "HIGHEST OVERALL CONFUSION:\n",
      "('non-insect_invertebrates', 'reptiles') --- 384.33\n",
      "('household_electrical_devices', 'lamp') --- 383.42\n",
      "('large_carnivores', 'bear') --- 375.46\n",
      "('aquatic_mammals', 'seal') --- 373.78\n",
      "('medium_mammals', 'small_mammals') --- 369.42\n"
     ]
    }
   ],
   "source": [
    "# Highest overall confusion\n",
    "sorted_pairs = [k for k, v in sorted(node_pairs.items(), key=lambda item: item[1], reverse=True)]\n",
    "print('HIGHEST OVERALL CONFUSION:')\n",
    "for i in range(5):\n",
    "    print(f'{sorted_pairs[i]} --- {node_pairs[sorted_pairs[i]]:.2f}')"
   ]
  },
  {
   "cell_type": "code",
   "execution_count": 23,
   "id": "9931620b-071d-4f8b-ae1c-1c483c0c9e37",
   "metadata": {},
   "outputs": [
    {
     "name": "stdout",
     "output_type": "stream",
     "text": [
      "HIGHEST SUPERCLASS CONFUSION:\n",
      "('non-insect_invertebrates', 'reptiles') --- 384.33\n",
      "('medium_mammals', 'small_mammals') --- 369.42\n",
      "('large_carnivores', 'large_omnivores_and_herbivores') --- 361.98\n",
      "('large_carnivores', 'medium_mammals') --- 353.98\n",
      "('aquatic_mammals', 'small_mammals') --- 325.53\n"
     ]
    }
   ],
   "source": [
    "# Confusion between superclass nodes\n",
    "superclass_pairs = [(a, b) for a, b in sorted_pairs if tree.depth(a) == 1 and tree.depth(b) == 1]\n",
    "print('HIGHEST SUPERCLASS CONFUSION:')\n",
    "for i in range(5):\n",
    "    print(f'{superclass_pairs[i]} --- {node_pairs[superclass_pairs[i]]:.2f}')"
   ]
  },
  {
   "cell_type": "code",
   "execution_count": 26,
   "id": "4314469c-5b45-436a-9401-03456436bcc7",
   "metadata": {},
   "outputs": [
    {
     "name": "stdout",
     "output_type": "stream",
     "text": [
      "HIGHEST CONFUSION BETWEEN UNRELATED NODES:\n",
      "('large_omnivores_and_herbivores', 'bear') --- 191.97\n",
      "('aquatic_mammals', 'bear') --- 177.28\n",
      "('aquatic_mammals', 'shrew') --- 175.59\n",
      "('small_mammals', 'seal') --- 173.96\n",
      "('small_mammals', 'otter') --- 173.04\n"
     ]
    }
   ],
   "source": [
    "# Confusion between nodes in different subtrees\n",
    "unrelated_pairs = []\n",
    "for a, b in sorted_pairs:\n",
    "    if tree.is_ancestor(a, b) or tree.is_ancestor(b, a):\n",
    "        continue\n",
    "    a_siblings = set([n.identifier for n in tree.siblings(a)])\n",
    "    if b in a_siblings:\n",
    "        continue\n",
    "    b_siblings = set([n.identifier for n in tree.siblings(b)])\n",
    "    if a in b_siblings:\n",
    "        continue\n",
    "    unrelated_pairs.append((a,b))\n",
    "    \n",
    "print('HIGHEST CONFUSION BETWEEN UNRELATED NODES:')\n",
    "for i in range(5):\n",
    "    print(f'{unrelated_pairs[i]} --- {node_pairs[unrelated_pairs[i]]:.2f}')"
   ]
  },
  {
   "cell_type": "code",
   "execution_count": null,
   "id": "23a74a84-903d-489b-9f8e-3a500574a106",
   "metadata": {},
   "outputs": [],
   "source": []
  }
 ],
 "metadata": {
  "kernelspec": {
   "display_name": "Python 3 (ipykernel)",
   "language": "python",
   "name": "python3"
  },
  "language_info": {
   "codemirror_mode": {
    "name": "ipython",
    "version": 3
   },
   "file_extension": ".py",
   "mimetype": "text/x-python",
   "name": "python",
   "nbconvert_exporter": "python",
   "pygments_lexer": "ipython3",
   "version": "3.7.12"
  }
 },
 "nbformat": 4,
 "nbformat_minor": 5
}
