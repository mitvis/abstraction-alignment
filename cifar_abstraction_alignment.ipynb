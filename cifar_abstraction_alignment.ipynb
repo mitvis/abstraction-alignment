{
 "cells": [
  {
   "cell_type": "markdown",
   "id": "68d186ff-ec39-4566-ab49-4be34aecfc2a",
   "metadata": {},
   "source": [
    "# Abstraction Alignment to Interpret a CIFAR-100 Model\n",
    "We apply abstraction alignment to interpret a CIFAR-100 image classification model using the CIFAR-100 class-superclass hierarchy as the human abstraction graph. This example is loosly based on the Interpreting Image Model Behavior Beyond Misclassification case study in the abstraction alignment paper.\n",
    "\n",
    "In this notebook, we train and evaluate a ResNet20 on CIFAR-100. We use the abstraction alignment methodology to aggregate and report the model's abstraction match and qualitatively analyze common \"types\" of abstraction (mis)alignment."
   ]
  },
  {
   "cell_type": "code",
   "execution_count": 1,
   "id": "4c600f05-c1a4-4bb7-b493-31b9f5dc96e8",
   "metadata": {},
   "outputs": [],
   "source": [
    "%load_ext autoreload\n",
    "%autoreload 2"
   ]
  },
  {
   "cell_type": "code",
   "execution_count": 148,
   "id": "80be5757-c011-490a-9928-8f91b451f123",
   "metadata": {},
   "outputs": [],
   "source": [
    "import os\n",
    "import torch\n",
    "import numpy as np\n",
    "import pandas as pd\n",
    "import altair as alt\n",
    "from tqdm import tqdm\n",
    "import seaborn as sns\n",
    "from scipy import stats\n",
    "import matplotlib.pyplot as plt\n",
    "import matplotlib.transforms as mtransforms\n",
    "from itertools import combinations\n",
    "\n",
    "import metrics\n",
    "import cifar\n",
    "import cifar_util\n",
    "import cifar_train\n",
    "import cifar_metadata\n",
    "\n",
    "sns.set_style(\"whitegrid\")"
   ]
  },
  {
   "cell_type": "markdown",
   "id": "0afe1308-c6a1-4f0d-b7dc-cc023a987e00",
   "metadata": {},
   "source": [
    "## CIFAR-100 Model and Dataset\n",
    "First, we load the CIFAR-100 dataset and train a ResNet20 on it. This is the model we will inspect with abstraction alignment."
   ]
  },
  {
   "cell_type": "code",
   "execution_count": 3,
   "id": "3dbf4bc3-03d6-4ce0-85fd-181c7ad111ae",
   "metadata": {},
   "outputs": [],
   "source": [
    "# User-defined paths -- TODO: update with your own\n",
    "MODEL_PATH = 'cifar/'\n",
    "CIFAR_DIR = '/nobackup/users/aboggust/data/cifar'"
   ]
  },
  {
   "cell_type": "code",
   "execution_count": 4,
   "id": "cb68d8ff-7f5c-4ec3-ac8a-e2269d00f094",
   "metadata": {
    "tags": []
   },
   "outputs": [
    {
     "name": "stdout",
     "output_type": "stream",
     "text": [
      "Loading trained CIFAR-100 model from: cifar/resnet20/checkpoints/checkpoint.pt\n"
     ]
    }
   ],
   "source": [
    "# Train a ResNet20 on CIFAR-100\n",
    "batch_size = 128\n",
    "data_augmentation = True\n",
    "epochs = 200\n",
    "architecture = 'resnet20'\n",
    "device = torch.device(\"cuda\" if torch.cuda.is_available() else \"cpu\")\n",
    "\n",
    "checkpoint = os.path.join(MODEL_PATH, architecture, 'checkpoints', 'checkpoint.pt')\n",
    "if os.path.isfile(checkpoint):\n",
    "    print(f'Loading trained CIFAR-100 model from: {checkpoint}')\n",
    "    model = cifar_util.load_model(architecture)\n",
    "    model.load_state_dict(torch.load(checkpoint))\n",
    "else:\n",
    "    print(f'Training CIFAR-100 model')\n",
    "    model = cifar_train.train(\n",
    "        architecture, \n",
    "        batch_size, \n",
    "        epochs, \n",
    "        CIFAR_DIR,\n",
    "        MODEL_PATH,\n",
    "        data_augmentation\n",
    "    )\n",
    "    \n",
    "model.to(device)\n",
    "model = model.eval()"
   ]
  },
  {
   "cell_type": "code",
   "execution_count": 5,
   "id": "97e0388f-bf30-4361-8316-7d772b42b10e",
   "metadata": {},
   "outputs": [
    {
     "name": "stdout",
     "output_type": "stream",
     "text": [
      "Files already downloaded and verified\n",
      "Files already downloaded and verified\n"
     ]
    }
   ],
   "source": [
    "# Load the CIFAR-100 dataset for exploration\n",
    "train_loader, test_loader = cifar_util.load_dataset(CIFAR_DIR, \n",
    "                                                    data_augmentation,\n",
    "                                                    batch_size)\n",
    "test_dataset = test_loader.dataset"
   ]
  },
  {
   "cell_type": "code",
   "execution_count": 6,
   "id": "86afa4b2-33d7-4f75-b2cc-f0e45794e914",
   "metadata": {},
   "outputs": [
    {
     "name": "stderr",
     "output_type": "stream",
     "text": [
      "100%|████████████████████████████████████████████████████████████████████████████████████████████████████████| 79/79 [00:04<00:00, 17.85it/s]\n"
     ]
    }
   ],
   "source": [
    "# Compute model outputs on test instances\n",
    "labels = []\n",
    "outputs = []\n",
    "for i, (image, label) in enumerate(tqdm(test_loader)):\n",
    "    with torch.no_grad():\n",
    "        images = image.to(device)\n",
    "    labels.extend(label.numpy())\n",
    "    output = model(images)\n",
    "    output = torch.nn.functional.softmax(output, dim=1).detach().cpu().numpy()\n",
    "    outputs.append(output)\n",
    "outputs = np.vstack(outputs)"
   ]
  },
  {
   "cell_type": "code",
   "execution_count": 8,
   "id": "5b313015-bd94-40a2-be71-bb35cdde4358",
   "metadata": {},
   "outputs": [
    {
     "name": "stdout",
     "output_type": "stream",
     "text": [
      "MODEL STATS:\n",
      "Accuracy: 67.68%\n",
      "Mean prediction confidence: 0.78\n",
      "Mean prediction confidence (correct): 0.87\n",
      "Mean prediction confidence (incorrect): 0.59\n"
     ]
    }
   ],
   "source": [
    "# Print model performance statistics\n",
    "predictions = [np.argmax(output) for output in outputs]\n",
    "correctness = [label == predictions[i] for i, label in enumerate(labels)]\n",
    "correct_inds = [i for i, label in enumerate(labels) if label == predictions[i]]\n",
    "incorrect_inds = [i for i, label in enumerate(labels) if label != predictions[i]]\n",
    "print(f'MODEL STATS:')\n",
    "print(f'Accuracy: {len(correct_inds) / len(labels):.2%}')\n",
    "print(f'Mean prediction confidence: {np.mean([np.max(output) for output in outputs]):.2f}')\n",
    "print(f'Mean prediction confidence (correct): {np.mean([np.max(outputs[i]) for i in correct_inds]):.2f}')\n",
    "print(f'Mean prediction confidence (incorrect): {np.mean([np.max(outputs[i]) for i in incorrect_inds]):.2f}')"
   ]
  },
  {
   "cell_type": "markdown",
   "id": "2279f9f2-a94d-4a79-9650-d329545c22d2",
   "metadata": {},
   "source": [
    "## Compute Abstraction Alignment\n",
    "We use abstraction alignment to analyze how well the human abstractions account for the model's behavior."
   ]
  },
  {
   "cell_type": "markdown",
   "id": "10298861-174d-4e19-ab72-4337314aa2e7",
   "metadata": {},
   "source": [
    "### Load the human abstraction graph (i.e., the CIFAR-100 class and superclass hiearchy)\n",
    "The human abstraction graph represents human concepts and the relationships between them."
   ]
  },
  {
   "cell_type": "code",
   "execution_count": 12,
   "id": "dd9a76c9-b727-49c1-a22b-1c7d6bc00eb6",
   "metadata": {
    "scrolled": true,
    "tags": []
   },
   "outputs": [
    {
     "name": "stdout",
     "output_type": "stream",
     "text": [
      "CIFAR-100 tree with 121 nodes across 3 levels.\n",
      "root (None)\n",
      "├── aquatic_mammals (None)\n",
      "│   ├── beaver (None)\n",
      "│   ├── dolphin (None)\n",
      "│   ├── otter (None)\n",
      "│   ├── seal (None)\n",
      "│   └── whale (None)\n",
      "├── fish (None)\n",
      "│   ├── aquarium_fish (None)\n",
      "│   ├── flatfish (None)\n",
      "│   ├── ray (None)\n",
      "│   ├── shark (None)\n",
      "│   └── trout (None)\n",
      "├── flowers (None)\n",
      "│   ├── orchid (None)\n",
      "│   ├── poppy (None)\n",
      "│   ├── rose (None)\n",
      "│   ├── sunflower (None)\n",
      "│   └── tulip (None)\n",
      "├── food_containers (None)\n",
      "│   ├── bottle (None)\n",
      "│   ├── bowl (None)\n",
      "│   ├── can (None)\n",
      "│   ├── cup (None)\n",
      "│   └── plate (None)\n",
      "├── fruit_and_vegetables (None)\n",
      "│   ├── apple (None)\n",
      "│   ├── mushroom (None)\n",
      "│   ├── orange (None)\n",
      "│   ├── pear (None)\n",
      "│   └── sweet_pepper (None)\n",
      "├── household_electrical_devices (None)\n",
      "│   ├── clock (None)\n",
      "│   ├── keyboard (None)\n",
      "│   ├── lamp (None)\n",
      "│   ├── telephone (None)\n",
      "│   └── television (None)\n",
      "├── household_furniture (None)\n",
      "│   ├── bed (None)\n",
      "│   ├── chair (None)\n",
      "│   ├── couch (None)\n",
      "│   ├── table (None)\n",
      "│   └── wardrobe (None)\n",
      "├── insects (None)\n",
      "│   ├── bee (None)\n",
      "│   ├── beetle (None)\n",
      "│   ├── butterfly (None)\n",
      "│   ├── caterpillar (None)\n",
      "│   └── cockroach (None)\n",
      "├── large_carnivores (None)\n",
      "│   ├── bear (None)\n",
      "│   ├── leopard (None)\n",
      "│   ├── lion (None)\n",
      "│   ├── tiger (None)\n",
      "│   └── wolf (None)\n",
      "├── large_man-made_outdoor_things (None)\n",
      "│   ├── bridge (None)\n",
      "│   ├── castle (None)\n",
      "│   ├── house (None)\n",
      "│   ├── road (None)\n",
      "│   └── skyscraper (None)\n",
      "├── large_natural_outdoor_scenes (None)\n",
      "│   ├── cloud (None)\n",
      "│   ├── forest (None)\n",
      "│   ├── mountain (None)\n",
      "│   ├── plain (None)\n",
      "│   └── sea (None)\n",
      "├── large_omnivores_and_herbivores (None)\n",
      "│   ├── camel (None)\n",
      "│   ├── cattle (None)\n",
      "│   ├── chimpanzee (None)\n",
      "│   ├── elephant (None)\n",
      "│   └── kangaroo (None)\n",
      "├── medium_mammals (None)\n",
      "│   ├── fox (None)\n",
      "│   ├── porcupine (None)\n",
      "│   ├── possum (None)\n",
      "│   ├── raccoon (None)\n",
      "│   └── skunk (None)\n",
      "├── non-insect_invertebrates (None)\n",
      "│   ├── crab (None)\n",
      "│   ├── lobster (None)\n",
      "│   ├── snail (None)\n",
      "│   ├── spider (None)\n",
      "│   └── worm (None)\n",
      "├── people (None)\n",
      "│   ├── baby (None)\n",
      "│   ├── boy (None)\n",
      "│   ├── girl (None)\n",
      "│   ├── man (None)\n",
      "│   └── woman (None)\n",
      "├── reptiles (None)\n",
      "│   ├── crocodile (None)\n",
      "│   ├── dinosaur (None)\n",
      "│   ├── lizard (None)\n",
      "│   ├── snake (None)\n",
      "│   └── turtle (None)\n",
      "├── small_mammals (None)\n",
      "│   ├── hamster (None)\n",
      "│   ├── mouse (None)\n",
      "│   ├── rabbit (None)\n",
      "│   ├── shrew (None)\n",
      "│   └── squirrel (None)\n",
      "├── trees (None)\n",
      "│   ├── maple_tree (None)\n",
      "│   ├── oak_tree (None)\n",
      "│   ├── palm_tree (None)\n",
      "│   ├── pine_tree (None)\n",
      "│   └── willow_tree (None)\n",
      "├── vehicles_1 (None)\n",
      "│   ├── bicycle (None)\n",
      "│   ├── bus (None)\n",
      "│   ├── motorcycle (None)\n",
      "│   ├── pickup_truck (None)\n",
      "│   └── train (None)\n",
      "└── vehicles_2 (None)\n",
      "    ├── lawn_mower (None)\n",
      "    ├── rocket (None)\n",
      "    ├── streetcar (None)\n",
      "    ├── tank (None)\n",
      "    └── tractor (None)\n",
      "\n"
     ]
    }
   ],
   "source": [
    "tree = cifar.make_tree()\n",
    "print(f'CIFAR-100 tree with {tree.size()} nodes across {tree.depth() + 1} levels.')\n",
    "print(cifar.show(tree))"
   ]
  },
  {
   "cell_type": "markdown",
   "id": "d5dbb14d-1115-4cd1-84bc-eb13163d7f50",
   "metadata": {},
   "source": [
    "### Create the model's fitted abstractions\n",
    "The model's fitted abstractions are a weighted version of the abstraction graph for each model decision. The value of each node represents the model's confidence in that concept. If it is a leaf node, then the value is the model's confidence in that decision. If it is an internal node, then the value is the sum of the model's confidence across its reacahble leaves."
   ]
  },
  {
   "cell_type": "code",
   "execution_count": 65,
   "id": "20e03894-e9a2-4367-834b-96e457a30723",
   "metadata": {},
   "outputs": [
    {
     "name": "stderr",
     "output_type": "stream",
     "text": [
      "100%|█████████████████████████████████████████████████████████████████████████████████████████████████| 10000/10000 [01:17<00:00, 128.79it/s]\n"
     ]
    }
   ],
   "source": [
    "# Create the model's fitted abstractions for each instance by propagating model outputs through the abstraction graph\n",
    "fitted_abstractions = []\n",
    "for i in tqdm(range(len(labels))):\n",
    "    tree = cifar.propagate(outputs[i], cifar.make_tree())\n",
    "    fitted_abstractions.append(tree)"
   ]
  },
  {
   "cell_type": "code",
   "execution_count": 66,
   "id": "5319d3d7-c975-4dbb-9c3c-aed2e4f8dfc8",
   "metadata": {
    "tags": []
   },
   "outputs": [
    {
     "data": {
      "image/png": "[encoded data removed]",
      "text/plain": [
       "<Figure size 432x288 with 1 Axes>"
      ]
     },
     "metadata": {},
     "output_type": "display_data"
    },
    {
     "name": "stdout",
     "output_type": "stream",
     "text": [
      "TOP PREDICTED CLASSES:  ['train (0.37)', 'road (0.18)', 'spider (0.17)']\n",
      "FITTED ABSTRACTION:\n",
      "root (1.00)\n",
      "├── aquatic_mammals (0.03)\n",
      "│   ├── seal (0.02)\n",
      "├── household_furniture (0.01)\n",
      "│   ├── couch (0.01)\n",
      "├── insects (0.03)\n",
      "│   └── cockroach (0.03)\n",
      "├── large_man-made_outdoor_things (0.20)\n",
      "│   ├── bridge (0.01)\n",
      "│   ├── road (0.18)\n",
      "│   └── skyscraper (0.01)\n",
      "├── large_natural_outdoor_scenes (0.01)\n",
      "├── large_omnivores_and_herbivores (0.01)\n",
      "├── non-insect_invertebrates (0.17)\n",
      "│   ├── spider (0.17)\n",
      "├── people (0.01)\n",
      "│   ├── girl (0.01)\n",
      "├── trees (0.12)\n",
      "│   ├── palm_tree (0.12)\n",
      "├── vehicles_1 (0.37)\n",
      "│   └── train (0.37)\n",
      "└── vehicles_2 (0.04)\n",
      "    ├── streetcar (0.04)\n",
      "\n"
     ]
    }
   ],
   "source": [
    "# Show an example fitted abstraction\n",
    "index = 0\n",
    "\n",
    "image = test_dataset[index][0].permute(1, 2, 0)\n",
    "plt.imshow(cifar_util.unnorm_cifar_image(image))\n",
    "plt.axis('off')\n",
    "plt.title(f'Label: {cifar_metadata.CLASS_LABELS[labels[index]]}\\nPred: {cifar_metadata.CLASS_LABELS[predictions[index]]}')\n",
    "plt.show()\n",
    "\n",
    "top_predictions = np.argsort(outputs[index])[-3:]\n",
    "print('TOP PREDICTED CLASSES: ', [f'{cifar_metadata.CLASS_LABELS[i]} ({outputs[index][i]:.2f})' for i in top_predictions][::-1])\n",
    "\n",
    "print('FITTED ABSTRACTION:')\n",
    "print(cifar.show(fitted_abstractions[0]))"
   ]
  },
  {
   "cell_type": "markdown",
   "id": "6838c642-092d-4484-980c-efa473037f5c",
   "metadata": {},
   "source": [
    "### Abstraction Match\n",
    "Abstraction match measures how much moving up one level of abstraction reduces the model's entropy. If the abstraction match is high (e.g., a lot of entropy is reduced), that is a signal that the model has learned those abstractions."
   ]
  },
  {
   "cell_type": "code",
   "execution_count": 92,
   "id": "7eae3ec9-35d9-42ff-bab4-59fa57eeeb89",
   "metadata": {},
   "outputs": [
    {
     "name": "stderr",
     "output_type": "stream",
     "text": [
      "100%|████████████████████████████████████████████████████████████████████████████████████████████████████████| 20/20 [00:20<00:00,  1.04s/it]\n"
     ]
    },
    {
     "data": {
      "text/html": [
       "\n",
       "<style>\n",
       "  #altair-viz-eb32ddda649b428d9de64e33e7690f60.vega-embed {\n",
       "    width: 100%;\n",
       "    display: flex;\n",
       "  }\n",
       "\n",
       "  #altair-viz-eb32ddda649b428d9de64e33e7690f60.vega-embed details,\n",
       "  #altair-viz-eb32ddda649b428d9de64e33e7690f60.vega-embed details summary {\n",
       "    position: relative;\n",
       "  }\n",
       "</style>\n",
       "<div id=\"altair-viz-eb32ddda649b428d9de64e33e7690f60\"></div>\n",
       "<script type=\"text/javascript\">\n",
       "  var VEGA_DEBUG = (typeof VEGA_DEBUG == \"undefined\") ? {} : VEGA_DEBUG;\n",
       "  (function(spec, embedOpt){\n",
       "    let outputDiv = document.currentScript.previousElementSibling;\n",
       "    if (outputDiv.id !== \"altair-viz-eb32ddda649b428d9de64e33e7690f60\") {\n",
       "      outputDiv = document.getElementById(\"altair-viz-eb32ddda649b428d9de64e33e7690f60\");\n",
       "    }\n",
       "    const paths = {\n",
       "      \"vega\": \"https://cdn.jsdelivr.net/npm/vega@5?noext\",\n",
       "      \"vega-lib\": \"https://cdn.jsdelivr.net/npm/vega-lib?noext\",\n",
       "      \"vega-lite\": \"https://cdn.jsdelivr.net/npm/vega-lite@5.8.0?noext\",\n",
       "      \"vega-embed\": \"https://cdn.jsdelivr.net/npm/vega-embed@6?noext\",\n",
       "    };\n",
       "\n",
       "    function maybeLoadScript(lib, version) {\n",
       "      var key = `${lib.replace(\"-\", \"\")}_version`;\n",
       "      return (VEGA_DEBUG[key] == version) ?\n",
       "        Promise.resolve(paths[lib]) :\n",
       "        new Promise(function(resolve, reject) {\n",
       "          var s = document.createElement('script');\n",
       "          document.getElementsByTagName(\"head\")[0].appendChild(s);\n",
       "          s.async = true;\n",
       "          s.onload = () => {\n",
       "            VEGA_DEBUG[key] = version;\n",
       "            return resolve(paths[lib]);\n",
       "          };\n",
       "          s.onerror = () => reject(`Error loading script: ${paths[lib]}`);\n",
       "          s.src = paths[lib];\n",
       "        });\n",
       "    }\n",
       "\n",
       "    function showError(err) {\n",
       "      outputDiv.innerHTML = `<div class=\"error\" style=\"color:red;\">${err}</div>`;\n",
       "      throw err;\n",
       "    }\n",
       "\n",
       "    function displayChart(vegaEmbed) {\n",
       "      vegaEmbed(outputDiv, spec, embedOpt)\n",
       "        .catch(err => showError(`Javascript Error: ${err.message}<br>This usually means there's a typo in your chart specification. See the javascript console for the full traceback.`));\n",
       "    }\n",
       "\n",
       "    if(typeof define === \"function\" && define.amd) {\n",
       "      requirejs.config({paths});\n",
       "      require([\"vega-embed\"], displayChart, err => showError(`Error loading script: ${err.message}`));\n",
       "    } else {\n",
       "      maybeLoadScript(\"vega\", \"5\")\n",
       "        .then(() => maybeLoadScript(\"vega-lite\", \"5.8.0\"))\n",
       "        .then(() => maybeLoadScript(\"vega-embed\", \"6\"))\n",
       "        .catch(showError)\n",
       "        .then(() => displayChart(vegaEmbed));\n",
       "    }\n",
       "  })({\"config\": {\"view\": {\"continuousWidth\": 300, \"continuousHeight\": 300}}, \"data\": {\"name\": \"data-6396fcf7d066a9c0e7cfeccd6da02f5b\"}, \"mark\": {\"type\": \"bar\"}, \"encoding\": {\"x\": {\"field\": \"concept\", \"sort\": \"-y\", \"type\": \"nominal\"}, \"y\": {\"field\": \"abstraction match\", \"type\": \"quantitative\"}}, \"title\": \"Abstraction Match per Superclass\", \"$schema\": \"https://vega.github.io/schema/vega-lite/v5.8.0.json\", \"datasets\": {\"data-6396fcf7d066a9c0e7cfeccd6da02f5b\": [{\"concept\": \"people\", \"abstraction match\": 0.6951291561126709}, {\"concept\": \"trees\", \"abstraction match\": 0.666723906993866}, {\"concept\": \"flowers\", \"abstraction match\": 0.5305652618408203}, {\"concept\": \"household_furniture\", \"abstraction match\": 0.4494735300540924}, {\"concept\": \"fruit_and_vegetables\", \"abstraction match\": 0.4099380075931549}, {\"concept\": \"large_natural_outdoor_scenes\", \"abstraction match\": 0.40929871797561646}, {\"concept\": \"food_containers\", \"abstraction match\": 0.39550936222076416}, {\"concept\": \"aquatic_mammals\", \"abstraction match\": 0.38348305225372314}, {\"concept\": \"small_mammals\", \"abstraction match\": 0.36819955706596375}, {\"concept\": \"large_man-made_outdoor_things\", \"abstraction match\": 0.35700759291648865}, {\"concept\": \"fish\", \"abstraction match\": 0.3563827574253082}, {\"concept\": \"insects\", \"abstraction match\": 0.33431577682495117}, {\"concept\": \"large_omnivores_and_herbivores\", \"abstraction match\": 0.3260774612426758}, {\"concept\": \"household_electrical_devices\", \"abstraction match\": 0.3251038193702698}, {\"concept\": \"vehicles_1\", \"abstraction match\": 0.32439184188842773}, {\"concept\": \"large_carnivores\", \"abstraction match\": 0.3212800621986389}, {\"concept\": \"reptiles\", \"abstraction match\": 0.2922455966472626}, {\"concept\": \"medium_mammals\", \"abstraction match\": 0.29131749272346497}, {\"concept\": \"non-insect_invertebrates\", \"abstraction match\": 0.28360676765441895}, {\"concept\": \"vehicles_2\", \"abstraction match\": 0.2339886575937271}]}}, {\"mode\": \"vega-lite\"});\n",
       "</script>"
      ],
      "text/plain": [
       "alt.Chart(...)"
      ]
     },
     "execution_count": 92,
     "metadata": {},
     "output_type": "execute_result"
    }
   ],
   "source": [
    "# Compute level-1 abstraction match aggregated per level-1 concept\n",
    "instance_per_concept = {}\n",
    "for i, label in enumerate(labels):\n",
    "    label_concept = cifar_metadata.CLASS_TO_SUPERCLASS[label]\n",
    "    if label_concept not in instance_per_concept:\n",
    "        instance_per_concept[label_concept] = set([])\n",
    "    instance_per_concept[label_concept].add(i)\n",
    "\n",
    "# Compute abstraction match per leve-1 concept\n",
    "level_1_concept_abstraction_match = {}\n",
    "for concept, instances in tqdm(instance_per_concept.items()):\n",
    "    instance_fitted_abstractions = [fitted_abstraction for i, fitted_abstraction in enumerate(fitted_abstractions) if i in instances]\n",
    "    match = metrics.abstraction_match(instance_fitted_abstractions, 1)\n",
    "    level_1_concept_abstraction_match[concept] = match\n",
    "    \n",
    "# Plot abstraction match\n",
    "ordered_concepts = sorted(level_1_concept_abstraction_match.keys(), key=lambda c: level_1_concept_abstraction_match[c], reverse=True)\n",
    "df = pd.DataFrame.from_dict({\n",
    "    'concept': [cifar_metadata.SUPERCLASS_LABELS[concept] for concept in ordered_concepts],\n",
    "    'abstraction match': [level_1_concept_abstraction_match[concept] for concept in ordered_concepts],\n",
    "})\n",
    "alt.Chart(df, title='Abstraction Match per Superclass').mark_bar().encode(\n",
    "    x=alt.X('concept:N').sort('-y'),\n",
    "    y=alt.Y('abstraction match:Q')\n",
    ")"
   ]
  },
  {
   "cell_type": "code",
   "execution_count": 94,
   "id": "08d75c3c-d8a2-4e80-9bfa-eff6419503f0",
   "metadata": {},
   "outputs": [
    {
     "name": "stderr",
     "output_type": "stream",
     "text": [
      "100%|██████████████████████████████████████████████████████████████████████████████████████████████████████| 100/100 [00:21<00:00,  4.68it/s]\n"
     ]
    },
    {
     "data": {
      "text/html": [
       "\n",
       "<style>\n",
       "  #altair-viz-79d9c2061eeb46e697dd8c22654bfe77.vega-embed {\n",
       "    width: 100%;\n",
       "    display: flex;\n",
       "  }\n",
       "\n",
       "  #altair-viz-79d9c2061eeb46e697dd8c22654bfe77.vega-embed details,\n",
       "  #altair-viz-79d9c2061eeb46e697dd8c22654bfe77.vega-embed details summary {\n",
       "    position: relative;\n",
       "  }\n",
       "</style>\n",
       "<div id=\"altair-viz-79d9c2061eeb46e697dd8c22654bfe77\"></div>\n",
       "<script type=\"text/javascript\">\n",
       "  var VEGA_DEBUG = (typeof VEGA_DEBUG == \"undefined\") ? {} : VEGA_DEBUG;\n",
       "  (function(spec, embedOpt){\n",
       "    let outputDiv = document.currentScript.previousElementSibling;\n",
       "    if (outputDiv.id !== \"altair-viz-79d9c2061eeb46e697dd8c22654bfe77\") {\n",
       "      outputDiv = document.getElementById(\"altair-viz-79d9c2061eeb46e697dd8c22654bfe77\");\n",
       "    }\n",
       "    const paths = {\n",
       "      \"vega\": \"https://cdn.jsdelivr.net/npm/vega@5?noext\",\n",
       "      \"vega-lib\": \"https://cdn.jsdelivr.net/npm/vega-lib?noext\",\n",
       "      \"vega-lite\": \"https://cdn.jsdelivr.net/npm/vega-lite@5.8.0?noext\",\n",
       "      \"vega-embed\": \"https://cdn.jsdelivr.net/npm/vega-embed@6?noext\",\n",
       "    };\n",
       "\n",
       "    function maybeLoadScript(lib, version) {\n",
       "      var key = `${lib.replace(\"-\", \"\")}_version`;\n",
       "      return (VEGA_DEBUG[key] == version) ?\n",
       "        Promise.resolve(paths[lib]) :\n",
       "        new Promise(function(resolve, reject) {\n",
       "          var s = document.createElement('script');\n",
       "          document.getElementsByTagName(\"head\")[0].appendChild(s);\n",
       "          s.async = true;\n",
       "          s.onload = () => {\n",
       "            VEGA_DEBUG[key] = version;\n",
       "            return resolve(paths[lib]);\n",
       "          };\n",
       "          s.onerror = () => reject(`Error loading script: ${paths[lib]}`);\n",
       "          s.src = paths[lib];\n",
       "        });\n",
       "    }\n",
       "\n",
       "    function showError(err) {\n",
       "      outputDiv.innerHTML = `<div class=\"error\" style=\"color:red;\">${err}</div>`;\n",
       "      throw err;\n",
       "    }\n",
       "\n",
       "    function displayChart(vegaEmbed) {\n",
       "      vegaEmbed(outputDiv, spec, embedOpt)\n",
       "        .catch(err => showError(`Javascript Error: ${err.message}<br>This usually means there's a typo in your chart specification. See the javascript console for the full traceback.`));\n",
       "    }\n",
       "\n",
       "    if(typeof define === \"function\" && define.amd) {\n",
       "      requirejs.config({paths});\n",
       "      require([\"vega-embed\"], displayChart, err => showError(`Error loading script: ${err.message}`));\n",
       "    } else {\n",
       "      maybeLoadScript(\"vega\", \"5\")\n",
       "        .then(() => maybeLoadScript(\"vega-lite\", \"5.8.0\"))\n",
       "        .then(() => maybeLoadScript(\"vega-embed\", \"6\"))\n",
       "        .catch(showError)\n",
       "        .then(() => displayChart(vegaEmbed));\n",
       "    }\n",
       "  })({\"config\": {\"view\": {\"continuousWidth\": 300, \"continuousHeight\": 300}}, \"data\": {\"name\": \"data-cc869dc6bc7d8e074eb63a7a656c3241\"}, \"mark\": {\"type\": \"bar\"}, \"encoding\": {\"color\": {\"field\": \"high-level concept\", \"type\": \"nominal\"}, \"x\": {\"field\": \"concept\", \"sort\": \"-y\", \"type\": \"nominal\"}, \"y\": {\"field\": \"abstraction match\", \"type\": \"quantitative\"}}, \"height\": 400, \"title\": \"Abstraction Match per Class\", \"width\": 800, \"$schema\": \"https://vega.github.io/schema/vega-lite/v5.8.0.json\", \"datasets\": {\"data-cc869dc6bc7d8e074eb63a7a656c3241\": [{\"concept\": \"oak_tree\", \"abstraction match\": 0.8613921403884888, \"high-level concept\": \"trees\"}, {\"concept\": \"boy\", \"abstraction match\": 0.7948678135871887, \"high-level concept\": \"people\"}, {\"concept\": \"maple_tree\", \"abstraction match\": 0.7491366863250732, \"high-level concept\": \"trees\"}, {\"concept\": \"girl\", \"abstraction match\": 0.724697470664978, \"high-level concept\": \"people\"}, {\"concept\": \"baby\", \"abstraction match\": 0.7070233225822449, \"high-level concept\": \"people\"}, {\"concept\": \"man\", \"abstraction match\": 0.6654984951019287, \"high-level concept\": \"people\"}, {\"concept\": \"poppy\", \"abstraction match\": 0.6249228119850159, \"high-level concept\": \"flowers\"}, {\"concept\": \"apple\", \"abstraction match\": 0.6244350671768188, \"high-level concept\": \"fruit_and_vegetables\"}, {\"concept\": \"pine_tree\", \"abstraction match\": 0.6087632179260254, \"high-level concept\": \"trees\"}, {\"concept\": \"woman\", \"abstraction match\": 0.5970258712768555, \"high-level concept\": \"people\"}, {\"concept\": \"sea\", \"abstraction match\": 0.5923061370849609, \"high-level concept\": \"large_natural_outdoor_scenes\"}, {\"concept\": \"rose\", \"abstraction match\": 0.5838879346847534, \"high-level concept\": \"flowers\"}, {\"concept\": \"willow_tree\", \"abstraction match\": 0.5801346302032471, \"high-level concept\": \"trees\"}, {\"concept\": \"bed\", \"abstraction match\": 0.5787810683250427, \"high-level concept\": \"household_furniture\"}, {\"concept\": \"orange\", \"abstraction match\": 0.5654146075248718, \"high-level concept\": \"fruit_and_vegetables\"}, {\"concept\": \"plain\", \"abstraction match\": 0.5498455166816711, \"high-level concept\": \"large_natural_outdoor_scenes\"}, {\"concept\": \"tulip\", \"abstraction match\": 0.5449640154838562, \"high-level concept\": \"flowers\"}, {\"concept\": \"cloud\", \"abstraction match\": 0.5227534770965576, \"high-level concept\": \"large_natural_outdoor_scenes\"}, {\"concept\": \"castle\", \"abstraction match\": 0.5167645215988159, \"high-level concept\": \"large_man-made_outdoor_things\"}, {\"concept\": \"palm_tree\", \"abstraction match\": 0.48913219571113586, \"high-level concept\": \"trees\"}, {\"concept\": \"pickup_truck\", \"abstraction match\": 0.4736098349094391, \"high-level concept\": \"vehicles_1\"}, {\"concept\": \"wardrobe\", \"abstraction match\": 0.4647940397262573, \"high-level concept\": \"household_furniture\"}, {\"concept\": \"hamster\", \"abstraction match\": 0.4635382890701294, \"high-level concept\": \"small_mammals\"}, {\"concept\": \"chair\", \"abstraction match\": 0.46235373616218567, \"high-level concept\": \"household_furniture\"}, {\"concept\": \"cockroach\", \"abstraction match\": 0.4490170180797577, \"high-level concept\": \"insects\"}, {\"concept\": \"plate\", \"abstraction match\": 0.4436414837837219, \"high-level concept\": \"food_containers\"}, {\"concept\": \"couch\", \"abstraction match\": 0.4385313391685486, \"high-level concept\": \"household_furniture\"}, {\"concept\": \"pear\", \"abstraction match\": 0.4383189082145691, \"high-level concept\": \"fruit_and_vegetables\"}, {\"concept\": \"bowl\", \"abstraction match\": 0.43130308389663696, \"high-level concept\": \"food_containers\"}, {\"concept\": \"whale\", \"abstraction match\": 0.4300280511379242, \"high-level concept\": \"aquatic_mammals\"}, {\"concept\": \"television\", \"abstraction match\": 0.42759597301483154, \"high-level concept\": \"household_electrical_devices\"}, {\"concept\": \"dolphin\", \"abstraction match\": 0.42522814869880676, \"high-level concept\": \"aquatic_mammals\"}, {\"concept\": \"road\", \"abstraction match\": 0.42473965883255005, \"high-level concept\": \"large_man-made_outdoor_things\"}, {\"concept\": \"sweet_pepper\", \"abstraction match\": 0.4236488938331604, \"high-level concept\": \"fruit_and_vegetables\"}, {\"concept\": \"tiger\", \"abstraction match\": 0.4218918979167938, \"high-level concept\": \"large_carnivores\"}, {\"concept\": \"mouse\", \"abstraction match\": 0.4210396707057953, \"high-level concept\": \"small_mammals\"}, {\"concept\": \"orchid\", \"abstraction match\": 0.41763684153556824, \"high-level concept\": \"flowers\"}, {\"concept\": \"can\", \"abstraction match\": 0.3938906192779541, \"high-level concept\": \"food_containers\"}, {\"concept\": \"lion\", \"abstraction match\": 0.3920961618423462, \"high-level concept\": \"large_carnivores\"}, {\"concept\": \"telephone\", \"abstraction match\": 0.39079388976097107, \"high-level concept\": \"household_electrical_devices\"}, {\"concept\": \"otter\", \"abstraction match\": 0.39055466651916504, \"high-level concept\": \"aquatic_mammals\"}, {\"concept\": \"ray\", \"abstraction match\": 0.38087376952171326, \"high-level concept\": \"fish\"}, {\"concept\": \"seal\", \"abstraction match\": 0.3803529143333435, \"high-level concept\": \"aquatic_mammals\"}, {\"concept\": \"beetle\", \"abstraction match\": 0.37780389189720154, \"high-level concept\": \"insects\"}, {\"concept\": \"sunflower\", \"abstraction match\": 0.3716505169868469, \"high-level concept\": \"flowers\"}, {\"concept\": \"camel\", \"abstraction match\": 0.37064921855926514, \"high-level concept\": \"large_omnivores_and_herbivores\"}, {\"concept\": \"trout\", \"abstraction match\": 0.3689180016517639, \"high-level concept\": \"fish\"}, {\"concept\": \"shark\", \"abstraction match\": 0.36744067072868347, \"high-level concept\": \"fish\"}, {\"concept\": \"crab\", \"abstraction match\": 0.36239033937454224, \"high-level concept\": \"non-insect_invertebrates\"}, {\"concept\": \"elephant\", \"abstraction match\": 0.36098265647888184, \"high-level concept\": \"large_omnivores_and_herbivores\"}, {\"concept\": \"cattle\", \"abstraction match\": 0.35978367924690247, \"high-level concept\": \"large_omnivores_and_herbivores\"}, {\"concept\": \"cup\", \"abstraction match\": 0.35059654712677, \"high-level concept\": \"food_containers\"}, {\"concept\": \"lizard\", \"abstraction match\": 0.34857431054115295, \"high-level concept\": \"reptiles\"}, {\"concept\": \"bus\", \"abstraction match\": 0.3436109125614166, \"high-level concept\": \"vehicles_1\"}, {\"concept\": \"house\", \"abstraction match\": 0.34260091185569763, \"high-level concept\": \"large_man-made_outdoor_things\"}, {\"concept\": \"flatfish\", \"abstraction match\": 0.3418499231338501, \"high-level concept\": \"fish\"}, {\"concept\": \"raccoon\", \"abstraction match\": 0.3367738425731659, \"high-level concept\": \"medium_mammals\"}, {\"concept\": \"squirrel\", \"abstraction match\": 0.3336784243583679, \"high-level concept\": \"small_mammals\"}, {\"concept\": \"rabbit\", \"abstraction match\": 0.33270710706710815, \"high-level concept\": \"small_mammals\"}, {\"concept\": \"shrew\", \"abstraction match\": 0.3316744565963745, \"high-level concept\": \"small_mammals\"}, {\"concept\": \"table\", \"abstraction match\": 0.3314119279384613, \"high-level concept\": \"household_furniture\"}, {\"concept\": \"wolf\", \"abstraction match\": 0.32633116841316223, \"high-level concept\": \"large_carnivores\"}, {\"concept\": \"beaver\", \"abstraction match\": 0.3185562193393707, \"high-level concept\": \"aquatic_mammals\"}, {\"concept\": \"possum\", \"abstraction match\": 0.3139510452747345, \"high-level concept\": \"medium_mammals\"}, {\"concept\": \"clock\", \"abstraction match\": 0.3125559985637665, \"high-level concept\": \"household_electrical_devices\"}, {\"concept\": \"porcupine\", \"abstraction match\": 0.30948305130004883, \"high-level concept\": \"medium_mammals\"}, {\"concept\": \"leopard\", \"abstraction match\": 0.3085879385471344, \"high-level concept\": \"large_carnivores\"}, {\"concept\": \"aquarium_fish\", \"abstraction match\": 0.3079243302345276, \"high-level concept\": \"fish\"}, {\"concept\": \"bee\", \"abstraction match\": 0.30688637495040894, \"high-level concept\": \"insects\"}, {\"concept\": \"crocodile\", \"abstraction match\": 0.30635401606559753, \"high-level concept\": \"reptiles\"}, {\"concept\": \"bridge\", \"abstraction match\": 0.3060298264026642, \"high-level concept\": \"large_man-made_outdoor_things\"}, {\"concept\": \"caterpillar\", \"abstraction match\": 0.3051755130290985, \"high-level concept\": \"insects\"}, {\"concept\": \"keyboard\", \"abstraction match\": 0.3024590313434601, \"high-level concept\": \"household_electrical_devices\"}, {\"concept\": \"bottle\", \"abstraction match\": 0.3023868203163147, \"high-level concept\": \"food_containers\"}, {\"concept\": \"spider\", \"abstraction match\": 0.3016860783100128, \"high-level concept\": \"non-insect_invertebrates\"}, {\"concept\": \"butterfly\", \"abstraction match\": 0.2912274897098541, \"high-level concept\": \"insects\"}, {\"concept\": \"tractor\", \"abstraction match\": 0.2862580418586731, \"high-level concept\": \"vehicles_2\"}, {\"concept\": \"bicycle\", \"abstraction match\": 0.2856769263744354, \"high-level concept\": \"vehicles_1\"}, {\"concept\": \"lawn_mower\", \"abstraction match\": 0.28537818789482117, \"high-level concept\": \"vehicles_2\"}, {\"concept\": \"mountain\", \"abstraction match\": 0.28382745385169983, \"high-level concept\": \"large_natural_outdoor_scenes\"}, {\"concept\": \"lobster\", \"abstraction match\": 0.27656033635139465, \"high-level concept\": \"non-insect_invertebrates\"}, {\"concept\": \"skyscraper\", \"abstraction match\": 0.2756025791168213, \"high-level concept\": \"large_man-made_outdoor_things\"}, {\"concept\": \"motorcycle\", \"abstraction match\": 0.27127084136009216, \"high-level concept\": \"vehicles_1\"}, {\"concept\": \"turtle\", \"abstraction match\": 0.2688720226287842, \"high-level concept\": \"reptiles\"}, {\"concept\": \"skunk\", \"abstraction match\": 0.26355648040771484, \"high-level concept\": \"medium_mammals\"}, {\"concept\": \"chimpanzee\", \"abstraction match\": 0.2629453241825104, \"high-level concept\": \"large_omnivores_and_herbivores\"}, {\"concept\": \"train\", \"abstraction match\": 0.26230984926223755, \"high-level concept\": \"vehicles_1\"}, {\"concept\": \"forest\", \"abstraction match\": 0.2594723701477051, \"high-level concept\": \"large_natural_outdoor_scenes\"}, {\"concept\": \"dinosaur\", \"abstraction match\": 0.25915318727493286, \"high-level concept\": \"reptiles\"}, {\"concept\": \"snake\", \"abstraction match\": 0.25675323605537415, \"high-level concept\": \"reptiles\"}, {\"concept\": \"snail\", \"abstraction match\": 0.254373162984848, \"high-level concept\": \"non-insect_invertebrates\"}, {\"concept\": \"tank\", \"abstraction match\": 0.25291067361831665, \"high-level concept\": \"vehicles_2\"}, {\"concept\": \"kangaroo\", \"abstraction match\": 0.2507270574569702, \"high-level concept\": \"large_omnivores_and_herbivores\"}, {\"concept\": \"bear\", \"abstraction match\": 0.245938241481781, \"high-level concept\": \"large_carnivores\"}, {\"concept\": \"lamp\", \"abstraction match\": 0.24140484631061554, \"high-level concept\": \"household_electrical_devices\"}, {\"concept\": \"worm\", \"abstraction match\": 0.21890413761138916, \"high-level concept\": \"non-insect_invertebrates\"}, {\"concept\": \"fox\", \"abstraction match\": 0.21641680598258972, \"high-level concept\": \"medium_mammals\"}, {\"concept\": \"mushroom\", \"abstraction match\": 0.1794133335351944, \"high-level concept\": \"fruit_and_vegetables\"}, {\"concept\": \"streetcar\", \"abstraction match\": 0.17197461426258087, \"high-level concept\": \"vehicles_2\"}, {\"concept\": \"rocket\", \"abstraction match\": 0.17174531519412994, \"high-level concept\": \"vehicles_2\"}]}}, {\"mode\": \"vega-lite\"});\n",
       "</script>"
      ],
      "text/plain": [
       "alt.Chart(...)"
      ]
     },
     "execution_count": 94,
     "metadata": {},
     "output_type": "execute_result"
    }
   ],
   "source": [
    "# Compute level-1 abstraction match aggregated per instance label\n",
    "instance_per_class = {}\n",
    "for i, label in enumerate(labels):\n",
    "    if label not in instance_per_class:\n",
    "        instance_per_class[label] = set([])\n",
    "    instance_per_class[label].add(i)\n",
    "    \n",
    "class_abstraction_match = {}\n",
    "for concept, instances in tqdm(instance_per_class.items()):\n",
    "    instance_fitted_abstractions = [fitted_abstraction for i, fitted_abstraction in enumerate(fitted_abstractions) if i in instances]\n",
    "    match = metrics.abstraction_match(instance_fitted_abstractions, 1)\n",
    "    class_abstraction_match[concept] = match\n",
    "    \n",
    "ordered_concepts = sorted(class_abstraction_match.keys(), key=lambda c: class_abstraction_match[c], reverse=True)\n",
    "df = pd.DataFrame.from_dict({\n",
    "    'concept': [cifar_metadata.CLASS_LABELS[concept] for concept in ordered_concepts],\n",
    "    'abstraction match': [class_abstraction_match[concept] for concept in ordered_concepts],\n",
    "    'high-level concept': [cifar_metadata.SUPERCLASS_LABELS[cifar_metadata.CLASS_TO_SUPERCLASS[concept]] for concept in ordered_concepts],\n",
    "})\n",
    "alt.Chart(df, title='Abstraction Match per Class').mark_bar().encode(\n",
    "    x=alt.X('concept:N').sort('-y'),\n",
    "    y=alt.Y('abstraction match:Q'),\n",
    "    color=alt.Color('high-level concept:N')\n",
    ").properties(\n",
    "    width=800,\n",
    "    height=400\n",
    ")"
   ]
  },
  {
   "cell_type": "markdown",
   "id": "17a8cfd6-dfd7-43e0-8f71-d792859d6dbd",
   "metadata": {},
   "source": [
    "### Query for model behavior types\n",
    "We can use abstraction alignment to query for common pattens in model behavior. We define a query over the fitted abstractions and return all the instances that match."
   ]
  },
  {
   "cell_type": "code",
   "execution_count": 151,
   "id": "e40c3529-edac-401c-9b3a-e16adb91573e",
   "metadata": {},
   "outputs": [],
   "source": [
    "def show_examples(indicies, num_examples):\n",
    "    if len(indicies) > 0:\n",
    "        example_inds = np.random.choice(indicies, num_examples)\n",
    "        plot_images(example_inds)\n",
    "        plt.show()\n",
    "        print(cifar.show(trees[example_inds[0]]))\n",
    "\n",
    "def plot_images(indicies):\n",
    "    fig, ax = plt.subplots(nrows=1, ncols=len(indicies))\n",
    "    if type(ax) != list:\n",
    "        ax = [ax]\n",
    "    for i, index in enumerate(indicies):\n",
    "        ax[i].imshow(cifar_util.unnorm_cifar_image(test_dataset[index][0].permute(1, 2, 0)))\n",
    "        ax[i].axis('off')\n",
    "    return fig\n",
    "\n",
    "def get_nodes_at_level(abstraction_graph, level, non_zero=True):\n",
    "    nodes = abstraction_graph.filter_nodes(lambda x: abstraction_graph.depth(x) == level)\n",
    "    if non_zero:\n",
    "        nodes = [node for node in nodes if node.data is not None and node.data >= 0.01]\n",
    "    return nodes"
   ]
  },
  {
   "cell_type": "code",
   "execution_count": 115,
   "id": "60c5cc4b-7910-4d2a-b3dd-03b0ce395213",
   "metadata": {},
   "outputs": [
    {
     "name": "stderr",
     "output_type": "stream",
     "text": [
      "100%|█████████████████████████████████████████████████████████████████████████████████████████████████| 10000/10000 [00:15<00:00, 638.98it/s]\n"
     ]
    },
    {
     "name": "stdout",
     "output_type": "stream",
     "text": [
      "2976 images where the model is fully confident in one output.\n"
     ]
    },
    {
     "data": {
      "image/png": "[encoded data removed]",
      "text/plain": [
       "<Figure size 432x288 with 1 Axes>"
      ]
     },
     "metadata": {},
     "output_type": "display_data"
    },
    {
     "name": "stdout",
     "output_type": "stream",
     "text": [
      "root (1.00)\n",
      "├── large_natural_outdoor_scenes (1.00)\n",
      "│   ├── cloud (1.00)\n",
      "\n"
     ]
    }
   ],
   "source": [
    "# Fully confident in an output concept\n",
    "fully_confident = []\n",
    "for i, fitted_abstraction in enumerate(tqdm(fitted_abstractions)):\n",
    "    non_zero_leaf_nodes = get_nodes_at_level(fitted_abstraction, 2, True)\n",
    "    if len(non_zero_leaf_nodes) == 1:\n",
    "        fully_confident.append(i)\n",
    "print(f'{len(fully_confident)} images where the model is fully confident in one output concept.')\n",
    "show_examples(fully_confident, 1)"
   ]
  },
  {
   "cell_type": "code",
   "execution_count": 118,
   "id": "078b14ef-a4cd-4f3e-8c7c-bd32b984a4e9",
   "metadata": {
    "tags": []
   },
   "outputs": [
    {
     "name": "stderr",
     "output_type": "stream",
     "text": [
      "100%|█████████████████████████████████████████████████████████████████████████████████████████████████| 10000/10000 [00:26<00:00, 381.26it/s]\n"
     ]
    },
    {
     "name": "stdout",
     "output_type": "stream",
     "text": [
      "39 images where the model is split between two branches through two superclass.\n"
     ]
    },
    {
     "data": {
      "image/png": "[encoded data removed]",
      "text/plain": [
       "<Figure size 432x288 with 1 Axes>"
      ]
     },
     "metadata": {},
     "output_type": "display_data"
    },
    {
     "name": "stdout",
     "output_type": "stream",
     "text": [
      "root (1.00)\n",
      "├── vehicles_1 (0.56)\n",
      "│   └── train (0.56)\n",
      "└── vehicles_2 (0.44)\n",
      "    ├── streetcar (0.44)\n",
      "\n"
     ]
    }
   ],
   "source": [
    "# Confidence split between two independent branches\n",
    "two_branches = []\n",
    "for i, fitted_abstraction in enumerate(tqdm(fitted_abstractions)):\n",
    "    non_zero_level_1_nodes = get_nodes_at_level(fitted_abstraction, 1, True)\n",
    "    non_zero_leaf_nodes = get_nodes_at_level(fitted_abstraction, 2, True)\n",
    "    if len(non_zero_leaf_nodes) != 2 or len(non_zero_level_1_nodes) != 2:\n",
    "        continue\n",
    "    if 0.4 <= np.max([node.data for node in non_zero_leaf_nodes]) <= 0.6 and 0.4 <= np.max([node.data for node in non_zero_level_1_nodes]) <= 0.6:\n",
    "        two_branches.append(i)\n",
    "\n",
    "print(f'{len(two_branches)} images where the model is split between two branches through two superclass.')\n",
    "show_examples(two_branches, 1)"
   ]
  },
  {
   "cell_type": "markdown",
   "id": "3f87cdc1-0abf-4894-b993-50af55b59aeb",
   "metadata": {},
   "source": [
    "### Concept Co-Confusion"
   ]
  },
  {
   "cell_type": "code",
   "execution_count": 138,
   "id": "69aee765-c56e-48d7-b5ec-1e60c6db4f21",
   "metadata": {},
   "outputs": [
    {
     "name": "stderr",
     "output_type": "stream",
     "text": [
      "100%|██████████████████████████████████████████████████████████████████████████████████████████████████| 10000/10000 [04:17<00:00, 38.90it/s]\n"
     ]
    }
   ],
   "source": [
    "outputs_per_instance = []\n",
    "for fitted_abstraction in fitted_abstractions:\n",
    "    output = {node.identifier: node.data for node in fitted_abstraction.all_nodes()}\n",
    "    outputs_per_instance.append(output)\n",
    "joint_entropy = metrics.joint_entropy(outputs_per_instance, 0.0001)\n",
    "max_entropy = stats.entropy([0.5,0.5])*len(fitted_abstractions)"
   ]
  },
  {
   "cell_type": "code",
   "execution_count": 139,
   "id": "f47fea93-3ae0-43f6-990d-a67125b83874",
   "metadata": {},
   "outputs": [
    {
     "name": "stdout",
     "output_type": "stream",
     "text": [
      "HIGHEST OVERALL CONFUSION:\n",
      "household_electrical_devices,lamp --- 20.18%\n",
      "non-insect_invertebrates,reptiles --- 20.03%\n",
      "medium_mammals,small_mammals --- 19.84%\n",
      "bear,large_carnivores --- 19.20%\n",
      "large_carnivores,medium_mammals --- 18.96%\n"
     ]
    }
   ],
   "source": [
    "# Highest overall confusion\n",
    "joint_entropy_non_root = {k:v for k, v in joint_entropy.items() if 'root' not in k}\n",
    "sorted_pairs = [k for k, v in sorted(joint_entropy.items(), key=lambda item: item[1], reverse=True)]\n",
    "print('HIGHEST OVERALL CONFUSION:')\n",
    "for i in range(5):\n",
    "    print(f'{sorted_pairs[i]} --- {joint_entropy[sorted_pairs[i]]/max_entropy:.2%}')"
   ]
  },
  {
   "cell_type": "code",
   "execution_count": 143,
   "id": "d8277e6e-98a2-4f0c-9075-e3757a2c29ad",
   "metadata": {},
   "outputs": [
    {
     "name": "stdout",
     "output_type": "stream",
     "text": [
      "HIGHEST SUPERCLASS CONFUSION:\n",
      "non-insect_invertebrates,reptiles --- 20.03%\n",
      "medium_mammals,small_mammals --- 19.84%\n",
      "large_carnivores,medium_mammals --- 18.96%\n",
      "large_carnivores,large_omnivores_and_herbivores --- 18.92%\n",
      "insects,non-insect_invertebrates --- 18.71%\n"
     ]
    }
   ],
   "source": [
    "# Confusion between superclass nodes\n",
    "superclass_pairs = [pair for pair in sorted_pairs if pair.split(',')[0] in cifar_metadata.SUPERCLASS_LABELS and pair.split(',')[1] in cifar_metadata.SUPERCLASS_LABELS]\n",
    "print('HIGHEST SUPERCLASS CONFUSION:')\n",
    "for i in range(5):\n",
    "    print(f'{superclass_pairs[i]} --- {joint_entropy[superclass_pairs[i]]/max_entropy:.2%}')"
   ]
  },
  {
   "cell_type": "code",
   "execution_count": null,
   "id": "31006a3d-d4ec-4cf6-95b8-551ddcada600",
   "metadata": {},
   "outputs": [],
   "source": []
  }
 ],
 "metadata": {
  "kernelspec": {
   "display_name": "Python 3 (ipykernel)",
   "language": "python",
   "name": "python3"
  },
  "language_info": {
   "codemirror_mode": {
    "name": "ipython",
    "version": 3
   },
   "file_extension": ".py",
   "mimetype": "text/x-python",
   "name": "python",
   "nbconvert_exporter": "python",
   "pygments_lexer": "ipython3",
   "version": "3.7.12"
  }
 },
 "nbformat": 4,
 "nbformat_minor": 5
}
