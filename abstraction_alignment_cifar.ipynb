{
 "cells": [
  {
   "cell_type": "markdown",
   "id": "68d186ff-ec39-4566-ab49-4be34aecfc2a",
   "metadata": {},
   "source": [
    "# Abstraction Alignment to Interpret a CIFAR-100 Model\n",
    "We apply abstraction alignment to interpret a CIFAR-100 image classification model using the CIFAR-100 class-superclass hierarchy as the human abstraction graph. This example is loosly based on the Interpreting Image Model Behavior case study in the Abstraction Alignment paper (Section 5.1).\n",
    "\n",
    "In this notebook, we train and evaluate a ResNet20 on CIFAR-100. We use the abstraction alignment methodology to aggregate and report the model's abstraction match and qualitatively analyze common \"types\" of abstraction (mis)alignment.\n",
    "\n",
    "Note: the values in this notebook may differ slightly from the values in the interface due to differences in normalization and thresholding. The relative values and takeaways remain the same."
   ]
  },
  {
   "cell_type": "code",
   "execution_count": 1,
   "id": "4c600f05-c1a4-4bb7-b493-31b9f5dc96e8",
   "metadata": {},
   "outputs": [],
   "source": [
    "%load_ext autoreload\n",
    "%autoreload 2"
   ]
  },
  {
   "cell_type": "code",
   "execution_count": 2,
   "id": "80be5757-c011-490a-9928-8f91b451f123",
   "metadata": {},
   "outputs": [],
   "source": [
    "import os\n",
    "import torch\n",
    "import numpy as np\n",
    "import pandas as pd\n",
    "import altair as alt\n",
    "from tqdm import tqdm\n",
    "import seaborn as sns\n",
    "from scipy import stats\n",
    "import matplotlib.pyplot as plt\n",
    "import matplotlib.transforms as mtransforms\n",
    "from itertools import combinations\n",
    "\n",
    "from abstraction_graph_cifar import make_abstraction_graph, show_abstraction_graph, propagate\n",
    "import util.cifar.cifar_util as cifar_util\n",
    "import util.cifar.cifar_train as cifar_train\n",
    "import util.cifar.cifar_metadata as cifar_metadata\n",
    "\n",
    "import metrics\n",
    "\n",
    "sns.set_style(\"whitegrid\")"
   ]
  },
  {
   "cell_type": "markdown",
   "id": "0afe1308-c6a1-4f0d-b7dc-cc023a987e00",
   "metadata": {},
   "source": [
    "## CIFAR-100 Model and Dataset\n",
    "First, we load the CIFAR-100 dataset and train a ResNet20 on it. This is the model we will inspect with abstraction alignment."
   ]
  },
  {
   "cell_type": "code",
   "execution_count": 3,
   "id": "3dbf4bc3-03d6-4ce0-85fd-181c7ad111ae",
   "metadata": {},
   "outputs": [],
   "source": [
    "# User-defined paths -- TODO: update with your own\n",
    "MODEL_PATH = 'util/cifar/'\n",
    "CIFAR_DIR = '/nobackup/users/aboggust/data/cifar'"
   ]
  },
  {
   "cell_type": "code",
   "execution_count": 4,
   "id": "cb68d8ff-7f5c-4ec3-ac8a-e2269d00f094",
   "metadata": {
    "tags": []
   },
   "outputs": [
    {
     "name": "stdout",
     "output_type": "stream",
     "text": [
      "Loading trained CIFAR-100 model from: util/cifar/resnet20/checkpoints/checkpoint.pt\n"
     ]
    }
   ],
   "source": [
    "# Train a ResNet20 on CIFAR-100\n",
    "batch_size = 128\n",
    "data_augmentation = True\n",
    "epochs = 200\n",
    "architecture = 'resnet20'\n",
    "device = torch.device(\"cuda\" if torch.cuda.is_available() else \"cpu\")\n",
    "\n",
    "checkpoint = os.path.join(MODEL_PATH, architecture, 'checkpoints', 'checkpoint.pt')\n",
    "if os.path.isfile(checkpoint):\n",
    "    print(f'Loading trained CIFAR-100 model from: {checkpoint}')\n",
    "    model = cifar_util.load_model(architecture)\n",
    "    model.load_state_dict(torch.load(checkpoint))\n",
    "else:\n",
    "    print(f'Training CIFAR-100 model')\n",
    "    model = cifar_train.train(\n",
    "        architecture, \n",
    "        batch_size, \n",
    "        epochs, \n",
    "        CIFAR_DIR,\n",
    "        MODEL_PATH,\n",
    "        data_augmentation\n",
    "    )\n",
    "    \n",
    "model.to(device)\n",
    "model = model.eval()"
   ]
  },
  {
   "cell_type": "code",
   "execution_count": 5,
   "id": "97e0388f-bf30-4361-8316-7d772b42b10e",
   "metadata": {},
   "outputs": [
    {
     "name": "stdout",
     "output_type": "stream",
     "text": [
      "Files already downloaded and verified\n",
      "Files already downloaded and verified\n"
     ]
    }
   ],
   "source": [
    "# Load the CIFAR-100 dataset for exploration\n",
    "train_loader, test_loader = cifar_util.load_dataset(CIFAR_DIR, \n",
    "                                                    data_augmentation,\n",
    "                                                    batch_size)\n",
    "test_dataset = test_loader.dataset"
   ]
  },
  {
   "cell_type": "code",
   "execution_count": 6,
   "id": "86afa4b2-33d7-4f75-b2cc-f0e45794e914",
   "metadata": {},
   "outputs": [
    {
     "name": "stderr",
     "output_type": "stream",
     "text": [
      "100%|██████████████████████████████████████████████████████████████████████████████████████████████████████████████| 79/79 [00:05<00:00, 14.70it/s]\n"
     ]
    }
   ],
   "source": [
    "# Compute model outputs on test instances\n",
    "labels = []\n",
    "outputs = []\n",
    "for i, (image, label) in enumerate(tqdm(test_loader)):\n",
    "    with torch.no_grad():\n",
    "        images = image.to(device)\n",
    "    labels.extend(label.numpy())\n",
    "    output = model(images)\n",
    "    output = torch.nn.functional.softmax(output, dim=1).detach().cpu().numpy()\n",
    "    outputs.append(output)\n",
    "outputs = np.vstack(outputs)"
   ]
  },
  {
   "cell_type": "code",
   "execution_count": 7,
   "id": "5b313015-bd94-40a2-be71-bb35cdde4358",
   "metadata": {},
   "outputs": [
    {
     "name": "stdout",
     "output_type": "stream",
     "text": [
      "MODEL STATS:\n",
      "Accuracy: 67.68%\n",
      "Mean prediction confidence: 0.78\n",
      "Mean prediction confidence (correct): 0.87\n",
      "Mean prediction confidence (incorrect): 0.59\n"
     ]
    }
   ],
   "source": [
    "# Print model performance statistics\n",
    "predictions = [np.argmax(output) for output in outputs]\n",
    "correctness = [label == predictions[i] for i, label in enumerate(labels)]\n",
    "correct_inds = [i for i, label in enumerate(labels) if label == predictions[i]]\n",
    "incorrect_inds = [i for i, label in enumerate(labels) if label != predictions[i]]\n",
    "print(f'MODEL STATS:')\n",
    "print(f'Accuracy: {len(correct_inds) / len(labels):.2%}')\n",
    "print(f'Mean prediction confidence: {np.mean([np.max(output) for output in outputs]):.2f}')\n",
    "print(f'Mean prediction confidence (correct): {np.mean([np.max(outputs[i]) for i in correct_inds]):.2f}')\n",
    "print(f'Mean prediction confidence (incorrect): {np.mean([np.max(outputs[i]) for i in incorrect_inds]):.2f}')"
   ]
  },
  {
   "cell_type": "markdown",
   "id": "2279f9f2-a94d-4a79-9650-d329545c22d2",
   "metadata": {},
   "source": [
    "## Compute Abstraction Alignment\n",
    "We use abstraction alignment to analyze how well the human abstractions account for the model's behavior."
   ]
  },
  {
   "cell_type": "markdown",
   "id": "10298861-174d-4e19-ab72-4337314aa2e7",
   "metadata": {},
   "source": [
    "### Load the human abstraction graph (i.e., the CIFAR-100 class and superclass hiearchy)\n",
    "The human abstraction graph represents human concepts and the relationships between them."
   ]
  },
  {
   "cell_type": "code",
   "execution_count": 8,
   "id": "dd9a76c9-b727-49c1-a22b-1c7d6bc00eb6",
   "metadata": {
    "scrolled": true,
    "tags": []
   },
   "outputs": [
    {
     "name": "stdout",
     "output_type": "stream",
     "text": [
      "CIFAR-100 abstraction_graph with 121 nodes across 3 levels.\n",
      "root\n",
      "├── aquatic_mammals\n",
      "│   ├── beaver\n",
      "│   ├── dolphin\n",
      "│   ├── otter\n",
      "│   ├── seal\n",
      "│   └── whale\n",
      "├── fish\n",
      "│   ├── aquarium_fish\n",
      "│   ├── flatfish\n",
      "│   ├── ray\n",
      "│   ├── shark\n",
      "│   └── trout\n",
      "├── flowers\n",
      "│   ├── orchid\n",
      "│   ├── poppy\n",
      "│   ├── rose\n",
      "│   ├── sunflower\n",
      "│   └── tulip\n",
      "├── food_containers\n",
      "│   ├── bottle\n",
      "│   ├── bowl\n",
      "│   ├── can\n",
      "│   ├── cup\n",
      "│   └── plate\n",
      "├── fruit_and_vegetables\n",
      "│   ├── apple\n",
      "│   ├── mushroom\n",
      "│   ├── orange\n",
      "│   ├── pear\n",
      "│   └── sweet_pepper\n",
      "├── household_electrical_devices\n",
      "│   ├── clock\n",
      "│   ├── keyboard\n",
      "│   ├── lamp\n",
      "│   ├── telephone\n",
      "│   └── television\n",
      "├── household_furniture\n",
      "│   ├── bed\n",
      "│   ├── chair\n",
      "│   ├── couch\n",
      "│   ├── table\n",
      "│   └── wardrobe\n",
      "├── insects\n",
      "│   ├── bee\n",
      "│   ├── beetle\n",
      "│   ├── butterfly\n",
      "│   ├── caterpillar\n",
      "│   └── cockroach\n",
      "├── large_carnivores\n",
      "│   ├── bear\n",
      "│   ├── leopard\n",
      "│   ├── lion\n",
      "│   ├── tiger\n",
      "│   └── wolf\n",
      "├── large_man-made_outdoor_things\n",
      "│   ├── bridge\n",
      "│   ├── castle\n",
      "│   ├── house\n",
      "│   ├── road\n",
      "│   └── skyscraper\n",
      "├── large_natural_outdoor_scenes\n",
      "│   ├── cloud\n",
      "│   ├── forest\n",
      "│   ├── mountain\n",
      "│   ├── plain\n",
      "│   └── sea\n",
      "├── large_omnivores_and_herbivores\n",
      "│   ├── camel\n",
      "│   ├── cattle\n",
      "│   ├── chimpanzee\n",
      "│   ├── elephant\n",
      "│   └── kangaroo\n",
      "├── medium_mammals\n",
      "│   ├── fox\n",
      "│   ├── porcupine\n",
      "│   ├── possum\n",
      "│   ├── raccoon\n",
      "│   └── skunk\n",
      "├── non-insect_invertebrates\n",
      "│   ├── crab\n",
      "│   ├── lobster\n",
      "│   ├── snail\n",
      "│   ├── spider\n",
      "│   └── worm\n",
      "├── people\n",
      "│   ├── baby\n",
      "│   ├── boy\n",
      "│   ├── girl\n",
      "│   ├── man\n",
      "│   └── woman\n",
      "├── reptiles\n",
      "│   ├── crocodile\n",
      "│   ├── dinosaur\n",
      "│   ├── lizard\n",
      "│   ├── snake\n",
      "│   └── turtle\n",
      "├── small_mammals\n",
      "│   ├── hamster\n",
      "│   ├── mouse\n",
      "│   ├── rabbit\n",
      "│   ├── shrew\n",
      "│   └── squirrel\n",
      "├── trees\n",
      "│   ├── maple_tree\n",
      "│   ├── oak_tree\n",
      "│   ├── palm_tree\n",
      "│   ├── pine_tree\n",
      "│   └── willow_tree\n",
      "├── vehicles_1\n",
      "│   ├── bicycle\n",
      "│   ├── bus\n",
      "│   ├── motorcycle\n",
      "│   ├── pickup_truck\n",
      "│   └── train\n",
      "└── vehicles_2\n",
      "    ├── lawn_mower\n",
      "    ├── rocket\n",
      "    ├── streetcar\n",
      "    ├── tank\n",
      "    └── tractor\n",
      "\n"
     ]
    }
   ],
   "source": [
    "abstraction_graph = make_abstraction_graph()\n",
    "print(f'CIFAR-100 abstraction_graph with {abstraction_graph.size()} nodes across {abstraction_graph.depth() + 1} levels.')\n",
    "print(show_abstraction_graph(abstraction_graph))"
   ]
  },
  {
   "cell_type": "markdown",
   "id": "d5dbb14d-1115-4cd1-84bc-eb13163d7f50",
   "metadata": {},
   "source": [
    "### Create the model's fitted abstractions\n",
    "The model's fitted abstractions are a weighted version of the abstraction graph for each model decision. The value of each node represents the model's confidence in that concept. If it is a leaf node, then the value is the model's confidence in that decision. If it is an internal node, then the value is the sum of the model's confidence across its reacahble leaves."
   ]
  },
  {
   "cell_type": "code",
   "execution_count": 9,
   "id": "20e03894-e9a2-4367-834b-96e457a30723",
   "metadata": {},
   "outputs": [
    {
     "name": "stderr",
     "output_type": "stream",
     "text": [
      "100%|████████████████████████████████████████████████████████████████████████████████████████████████████████| 10000/10000 [02:10<00:00, 76.73it/s]\n"
     ]
    }
   ],
   "source": [
    "# Create the model's fitted abstractions for each instance by propagating model outputs through the abstraction graph\n",
    "fitted_abstractions = []\n",
    "for i in tqdm(range(len(labels))):\n",
    "    fitted_abstraction = propagate(outputs[i], make_abstraction_graph())\n",
    "    fitted_abstractions.append(fitted_abstraction)"
   ]
  },
  {
   "cell_type": "code",
   "execution_count": 10,
   "id": "5319d3d7-c975-4dbb-9c3c-aed2e4f8dfc8",
   "metadata": {
    "tags": []
   },
   "outputs": [
    {
     "data": {
      "image/png": "[encoded data removed]",
      "text/plain": [
       "<Figure size 432x288 with 1 Axes>"
      ]
     },
     "metadata": {},
     "output_type": "display_data"
    },
    {
     "name": "stdout",
     "output_type": "stream",
     "text": [
      "TOP PREDICTED CLASSES:  ['train (0.37)', 'road (0.18)', 'spider (0.17)']\n",
      "FITTED ABSTRACTION:\n",
      "root (1.00)\n",
      "├── aquatic_mammals (0.03)\n",
      "│   ├── seal (0.02)\n",
      "├── household_furniture (0.01)\n",
      "│   ├── couch (0.01)\n",
      "├── insects (0.03)\n",
      "│   └── cockroach (0.03)\n",
      "├── large_man-made_outdoor_things (0.20)\n",
      "│   ├── bridge (0.01)\n",
      "│   ├── road (0.18)\n",
      "│   └── skyscraper (0.01)\n",
      "├── large_natural_outdoor_scenes (0.01)\n",
      "├── large_omnivores_and_herbivores (0.01)\n",
      "├── non-insect_invertebrates (0.17)\n",
      "│   ├── spider (0.17)\n",
      "├── people (0.01)\n",
      "│   ├── girl (0.01)\n",
      "├── trees (0.12)\n",
      "│   ├── palm_tree (0.12)\n",
      "├── vehicles_1 (0.37)\n",
      "│   └── train (0.37)\n",
      "└── vehicles_2 (0.04)\n",
      "    ├── streetcar (0.04)\n",
      "\n"
     ]
    }
   ],
   "source": [
    "# Show an example fitted abstraction\n",
    "index = 0\n",
    "\n",
    "image = test_dataset[index][0].permute(1, 2, 0)\n",
    "plt.imshow(cifar_util.unnorm_cifar_image(image))\n",
    "plt.axis('off')\n",
    "plt.title(f'Label: {cifar_metadata.CLASS_LABELS[labels[index]]}\\nPred: {cifar_metadata.CLASS_LABELS[predictions[index]]}')\n",
    "plt.show()\n",
    "\n",
    "top_predictions = np.argsort(outputs[index])[-3:]\n",
    "print('TOP PREDICTED CLASSES: ', [f'{cifar_metadata.CLASS_LABELS[i]} ({outputs[index][i]:.2f})' for i in top_predictions][::-1])\n",
    "\n",
    "print('FITTED ABSTRACTION:')\n",
    "print(show_abstraction_graph(fitted_abstractions[0]))"
   ]
  },
  {
   "cell_type": "markdown",
   "id": "6838c642-092d-4484-980c-efa473037f5c",
   "metadata": {},
   "source": [
    "### Abstraction Match\n",
    "Abstraction match measures how much moving up one level of abstraction reduces the model's entropy. If the abstraction match is high (e.g., a lot of entropy is reduced), that is a signal that the model has learned those abstractions."
   ]
  },
  {
   "cell_type": "code",
   "execution_count": 11,
   "id": "7eae3ec9-35d9-42ff-bab4-59fa57eeeb89",
   "metadata": {
    "tags": []
   },
   "outputs": [
    {
     "name": "stderr",
     "output_type": "stream",
     "text": [
      "100%|██████████████████████████████████████████████████████████████████████████████████████████████████████████████| 20/20 [00:37<00:00,  1.89s/it]\n"
     ]
    },
    {
     "data": {
      "text/html": [
       "\n",
       "<style>\n",
       "  #altair-viz-53d44c93fcc443c79eda9fcef798224d.vega-embed {\n",
       "    width: 100%;\n",
       "    display: flex;\n",
       "  }\n",
       "\n",
       "  #altair-viz-53d44c93fcc443c79eda9fcef798224d.vega-embed details,\n",
       "  #altair-viz-53d44c93fcc443c79eda9fcef798224d.vega-embed details summary {\n",
       "    position: relative;\n",
       "  }\n",
       "</style>\n",
       "<div id=\"altair-viz-53d44c93fcc443c79eda9fcef798224d\"></div>\n",
       "<script type=\"text/javascript\">\n",
       "  var VEGA_DEBUG = (typeof VEGA_DEBUG == \"undefined\") ? {} : VEGA_DEBUG;\n",
       "  (function(spec, embedOpt){\n",
       "    let outputDiv = document.currentScript.previousElementSibling;\n",
       "    if (outputDiv.id !== \"altair-viz-53d44c93fcc443c79eda9fcef798224d\") {\n",
       "      outputDiv = document.getElementById(\"altair-viz-53d44c93fcc443c79eda9fcef798224d\");\n",
       "    }\n",
       "    const paths = {\n",
       "      \"vega\": \"https://cdn.jsdelivr.net/npm/vega@5?noext\",\n",
       "      \"vega-lib\": \"https://cdn.jsdelivr.net/npm/vega-lib?noext\",\n",
       "      \"vega-lite\": \"https://cdn.jsdelivr.net/npm/vega-lite@5.8.0?noext\",\n",
       "      \"vega-embed\": \"https://cdn.jsdelivr.net/npm/vega-embed@6?noext\",\n",
       "    };\n",
       "\n",
       "    function maybeLoadScript(lib, version) {\n",
       "      var key = `${lib.replace(\"-\", \"\")}_version`;\n",
       "      return (VEGA_DEBUG[key] == version) ?\n",
       "        Promise.resolve(paths[lib]) :\n",
       "        new Promise(function(resolve, reject) {\n",
       "          var s = document.createElement('script');\n",
       "          document.getElementsByTagName(\"head\")[0].appendChild(s);\n",
       "          s.async = true;\n",
       "          s.onload = () => {\n",
       "            VEGA_DEBUG[key] = version;\n",
       "            return resolve(paths[lib]);\n",
       "          };\n",
       "          s.onerror = () => reject(`Error loading script: ${paths[lib]}`);\n",
       "          s.src = paths[lib];\n",
       "        });\n",
       "    }\n",
       "\n",
       "    function showError(err) {\n",
       "      outputDiv.innerHTML = `<div class=\"error\" style=\"color:red;\">${err}</div>`;\n",
       "      throw err;\n",
       "    }\n",
       "\n",
       "    function displayChart(vegaEmbed) {\n",
       "      vegaEmbed(outputDiv, spec, embedOpt)\n",
       "        .catch(err => showError(`Javascript Error: ${err.message}<br>This usually means there's a typo in your chart specification. See the javascript console for the full traceback.`));\n",
       "    }\n",
       "\n",
       "    if(typeof define === \"function\" && define.amd) {\n",
       "      requirejs.config({paths});\n",
       "      require([\"vega-embed\"], displayChart, err => showError(`Error loading script: ${err.message}`));\n",
       "    } else {\n",
       "      maybeLoadScript(\"vega\", \"5\")\n",
       "        .then(() => maybeLoadScript(\"vega-lite\", \"5.8.0\"))\n",
       "        .then(() => maybeLoadScript(\"vega-embed\", \"6\"))\n",
       "        .catch(showError)\n",
       "        .then(() => displayChart(vegaEmbed));\n",
       "    }\n",
       "  })({\"config\": {\"view\": {\"continuousWidth\": 300, \"continuousHeight\": 300}}, \"data\": {\"name\": \"data-6396fcf7d066a9c0e7cfeccd6da02f5b\"}, \"mark\": {\"type\": \"bar\"}, \"encoding\": {\"color\": {\"field\": \"concept\", \"type\": \"nominal\"}, \"x\": {\"field\": \"concept\", \"sort\": \"-y\", \"type\": \"nominal\"}, \"y\": {\"field\": \"abstraction match\", \"type\": \"quantitative\"}}, \"title\": \"Abstraction Match per Superclass\", \"$schema\": \"https://vega.github.io/schema/vega-lite/v5.8.0.json\", \"datasets\": {\"data-6396fcf7d066a9c0e7cfeccd6da02f5b\": [{\"concept\": \"people\", \"abstraction match\": 0.6951291561126709}, {\"concept\": \"trees\", \"abstraction match\": 0.666723906993866}, {\"concept\": \"flowers\", \"abstraction match\": 0.5305652618408203}, {\"concept\": \"household_furniture\", \"abstraction match\": 0.4494735300540924}, {\"concept\": \"fruit_and_vegetables\", \"abstraction match\": 0.4099380075931549}, {\"concept\": \"large_natural_outdoor_scenes\", \"abstraction match\": 0.40929871797561646}, {\"concept\": \"food_containers\", \"abstraction match\": 0.39550936222076416}, {\"concept\": \"aquatic_mammals\", \"abstraction match\": 0.38348305225372314}, {\"concept\": \"small_mammals\", \"abstraction match\": 0.36819955706596375}, {\"concept\": \"large_man-made_outdoor_things\", \"abstraction match\": 0.35700759291648865}, {\"concept\": \"fish\", \"abstraction match\": 0.3563827574253082}, {\"concept\": \"insects\", \"abstraction match\": 0.33431577682495117}, {\"concept\": \"large_omnivores_and_herbivores\", \"abstraction match\": 0.3260774612426758}, {\"concept\": \"household_electrical_devices\", \"abstraction match\": 0.3251038193702698}, {\"concept\": \"vehicles_1\", \"abstraction match\": 0.32439184188842773}, {\"concept\": \"large_carnivores\", \"abstraction match\": 0.3212800621986389}, {\"concept\": \"reptiles\", \"abstraction match\": 0.2922455966472626}, {\"concept\": \"medium_mammals\", \"abstraction match\": 0.29131749272346497}, {\"concept\": \"non-insect_invertebrates\", \"abstraction match\": 0.28360676765441895}, {\"concept\": \"vehicles_2\", \"abstraction match\": 0.2339886575937271}]}}, {\"mode\": \"vega-lite\"});\n",
       "</script>"
      ],
      "text/plain": [
       "alt.Chart(...)"
      ]
     },
     "execution_count": 11,
     "metadata": {},
     "output_type": "execute_result"
    }
   ],
   "source": [
    "# Compute level-1 abstraction match aggregated per level-1 concept\n",
    "instance_per_concept = {}\n",
    "for i, label in enumerate(labels):\n",
    "    label_concept = cifar_metadata.CLASS_TO_SUPERCLASS[label]\n",
    "    if label_concept not in instance_per_concept:\n",
    "        instance_per_concept[label_concept] = set([])\n",
    "    instance_per_concept[label_concept].add(i)\n",
    "\n",
    "# Compute abstraction match per leve-1 concept\n",
    "level_1_concept_abstraction_match = {}\n",
    "for concept, instances in tqdm(instance_per_concept.items()):\n",
    "    instance_fitted_abstractions = [fitted_abstraction for i, fitted_abstraction in enumerate(fitted_abstractions) if i in instances]\n",
    "    match = metrics.abstraction_match(instance_fitted_abstractions, 1)\n",
    "    level_1_concept_abstraction_match[concept] = match\n",
    "        \n",
    "# Plot abstraction match\n",
    "ordered_concepts = sorted(level_1_concept_abstraction_match.keys(), key=lambda c: level_1_concept_abstraction_match[c], reverse=True)\n",
    "df = pd.DataFrame.from_dict({\n",
    "    'concept': [cifar_metadata.SUPERCLASS_LABELS[concept] for concept in ordered_concepts],\n",
    "    'abstraction match': [level_1_concept_abstraction_match[concept] for concept in ordered_concepts],\n",
    "})\n",
    "alt.Chart(df, title='Abstraction Match per Superclass').mark_bar().encode(\n",
    "    x=alt.X('concept:N').sort('-y'),\n",
    "    y=alt.Y('abstraction match:Q'),\n",
    "    color=alt.Color('concept:N'),\n",
    ")"
   ]
  },
  {
   "cell_type": "markdown",
   "id": "17a8cfd6-dfd7-43e0-8f71-d792859d6dbd",
   "metadata": {},
   "source": [
    "### Query for model behavior types\n",
    "We can use abstraction alignment to query for common pattens in model behavior. We define a query over the fitted abstractions and return all the instances that match."
   ]
  },
  {
   "cell_type": "code",
   "execution_count": 12,
   "id": "e40c3529-edac-401c-9b3a-e16adb91573e",
   "metadata": {},
   "outputs": [],
   "source": [
    "def show_examples(indicies, num_examples):\n",
    "    if len(indicies) > 0:\n",
    "        example_inds = np.random.choice(indicies, num_examples)\n",
    "        plot_images(example_inds)\n",
    "        plt.show()\n",
    "        print(show_abstraction_graph(fitted_abstractions[example_inds[0]]))\n",
    "\n",
    "def plot_images(indicies):\n",
    "    fig, ax = plt.subplots(nrows=1, ncols=len(indicies))\n",
    "    if type(ax) != list:\n",
    "        ax = [ax]\n",
    "    for i, index in enumerate(indicies):\n",
    "        ax[i].imshow(cifar_util.unnorm_cifar_image(test_dataset[index][0].permute(1, 2, 0)))\n",
    "        ax[i].axis('off')\n",
    "    return fig\n",
    "\n",
    "def get_nodes_at_level(abstraction_graph, level, non_zero=True):\n",
    "    nodes = abstraction_graph.filter_nodes(lambda x: abstraction_graph.depth(x) == level)\n",
    "    if non_zero:\n",
    "        nodes = [node for node in nodes if node.data is not None and node.data >= 0.01]\n",
    "    return nodes"
   ]
  },
  {
   "cell_type": "code",
   "execution_count": 13,
   "id": "60c5cc4b-7910-4d2a-b3dd-03b0ce395213",
   "metadata": {},
   "outputs": [
    {
     "name": "stderr",
     "output_type": "stream",
     "text": [
      "100%|███████████████████████████████████████████████████████████████████████████████████████████████████████| 10000/10000 [00:12<00:00, 816.99it/s]\n"
     ]
    },
    {
     "name": "stdout",
     "output_type": "stream",
     "text": [
      "2976 images where the model is fully confident in one output concept.\n"
     ]
    },
    {
     "data": {
      "image/png": "[encoded data removed]",
      "text/plain": [
       "<Figure size 432x288 with 1 Axes>"
      ]
     },
     "metadata": {},
     "output_type": "display_data"
    },
    {
     "name": "stdout",
     "output_type": "stream",
     "text": [
      "root (1.00)\n",
      "├── medium_mammals (1.00)\n",
      "│   └── skunk (1.00)\n",
      "\n"
     ]
    }
   ],
   "source": [
    "# Fully confident in an output concept\n",
    "fully_confident = []\n",
    "for i, fitted_abstraction in enumerate(tqdm(fitted_abstractions)):\n",
    "    non_zero_leaf_nodes = get_nodes_at_level(fitted_abstraction, 2, True)\n",
    "    if len(non_zero_leaf_nodes) == 1:\n",
    "        fully_confident.append(i)\n",
    "print(f'{len(fully_confident)} images where the model is fully confident in one output concept.')\n",
    "show_examples(fully_confident, 1)"
   ]
  },
  {
   "cell_type": "code",
   "execution_count": 14,
   "id": "078b14ef-a4cd-4f3e-8c7c-bd32b984a4e9",
   "metadata": {
    "tags": []
   },
   "outputs": [
    {
     "name": "stderr",
     "output_type": "stream",
     "text": [
      "100%|███████████████████████████████████████████████████████████████████████████████████████████████████████| 10000/10000 [00:38<00:00, 261.59it/s]\n"
     ]
    },
    {
     "name": "stdout",
     "output_type": "stream",
     "text": [
      "19 images where the model is split between two branches through two superclass.\n"
     ]
    },
    {
     "data": {
      "image/png": "[encoded data removed]",
      "text/plain": [
       "<Figure size 432x288 with 1 Axes>"
      ]
     },
     "metadata": {},
     "output_type": "display_data"
    },
    {
     "name": "stdout",
     "output_type": "stream",
     "text": [
      "root (1.00)\n",
      "├── insects (0.49)\n",
      "│   ├── beetle (0.49)\n",
      "├── large_carnivores (0.50)\n",
      "│   └── wolf (0.50)\n",
      "\n"
     ]
    }
   ],
   "source": [
    "# Confidence split between two independent branches\n",
    "two_branches = []\n",
    "for i, fitted_abstraction in enumerate(tqdm(fitted_abstractions)):\n",
    "    non_zero_level_1_nodes = get_nodes_at_level(fitted_abstraction, 1, True)\n",
    "    non_zero_leaf_nodes = get_nodes_at_level(fitted_abstraction, 2, True)\n",
    "    if len(non_zero_leaf_nodes) != 2 or len(non_zero_level_1_nodes) != 2:\n",
    "        continue\n",
    "    if 0.45 <= np.max([node.data for node in non_zero_leaf_nodes]) <= 0.55 and 0.45 <= np.max([node.data for node in non_zero_level_1_nodes]) <= 0.55:\n",
    "        two_branches.append(i)\n",
    "\n",
    "print(f'{len(two_branches)} images where the model is split between two branches through two superclass.')\n",
    "show_examples(two_branches, 1)"
   ]
  },
  {
   "cell_type": "markdown",
   "id": "3f87cdc1-0abf-4894-b993-50af55b59aeb",
   "metadata": {},
   "source": [
    "### Concept Co-Confusion\n",
    "We can also use abstraction alignment to indentify pairs of concepts that the model commonly confuses. These concepts can help us identify misalignments between human-similar concepts and model-similar concepts."
   ]
  },
  {
   "cell_type": "code",
   "execution_count": 15,
   "id": "50c98c61-1032-4a7a-a7b2-3f17ec21d3f3",
   "metadata": {
    "tags": []
   },
   "outputs": [
    {
     "name": "stderr",
     "output_type": "stream",
     "text": [
      "100%|████████████████████████████████████████████████████████████████████████████████████████████████████████| 10000/10000 [13:48<00:00, 12.08it/s]\n"
     ]
    }
   ],
   "source": [
    "coconfusion = metrics.concept_coconfusion(fitted_abstractions, 0.00001)"
   ]
  },
  {
   "cell_type": "code",
   "execution_count": 18,
   "id": "f47fea93-3ae0-43f6-990d-a67125b83874",
   "metadata": {},
   "outputs": [
    {
     "name": "stdout",
     "output_type": "stream",
     "text": [
      "HIGHEST OVERALL COCONFUSION:\n",
      "couch,household_furniture --- 30.58%\n",
      "household_electrical_devices,lamp --- 29.65%\n",
      "fruit_and_vegetables,mushroom --- 29.52%\n",
      "food_containers,household_electrical_devices --- 29.37%\n",
      "medium_mammals,small_mammals --- 29.00%\n"
     ]
    }
   ],
   "source": [
    "# Highest overall confusion\n",
    "coconfusion_non_root = {k:v for k, v in coconfusion.items() if 'root' not in k}\n",
    "sorted_pairs = [k for k, v in sorted(coconfusion.items(), key=lambda item: item[1], reverse=True)]\n",
    "print('HIGHEST OVERALL COCONFUSION:')\n",
    "for i in range(5):\n",
    "    print(f'{sorted_pairs[i]} --- {coconfusion[sorted_pairs[i]]:.2%}')"
   ]
  },
  {
   "cell_type": "code",
   "execution_count": 19,
   "id": "d8277e6e-98a2-4f0c-9075-e3757a2c29ad",
   "metadata": {},
   "outputs": [
    {
     "name": "stdout",
     "output_type": "stream",
     "text": [
      "HIGHEST SUPERCLASS COCONFUSION:\n",
      "food_containers,household_electrical_devices --- 29.37%\n",
      "medium_mammals,small_mammals --- 29.00%\n",
      "non-insect_invertebrates,reptiles --- 28.76%\n",
      "vehicles_1,vehicles_2 --- 28.32%\n",
      "insects,non-insect_invertebrates --- 28.31%\n"
     ]
    }
   ],
   "source": [
    "# Confusion between superclass nodes\n",
    "superclass_pairs = [pair for pair in sorted_pairs if pair.split(',')[0] in cifar_metadata.SUPERCLASS_LABELS and pair.split(',')[1] in cifar_metadata.SUPERCLASS_LABELS]\n",
    "print('HIGHEST SUPERCLASS COCONFUSION:')\n",
    "for i in range(5):\n",
    "    print(f'{superclass_pairs[i]} --- {coconfusion[superclass_pairs[i]]:.2%}')"
   ]
  },
  {
   "cell_type": "code",
   "execution_count": null,
   "id": "31006a3d-d4ec-4cf6-95b8-551ddcada600",
   "metadata": {},
   "outputs": [],
   "source": []
  }
 ],
 "metadata": {
  "kernelspec": {
   "display_name": "Python 3 (ipykernel)",
   "language": "python",
   "name": "python3"
  },
  "language_info": {
   "codemirror_mode": {
    "name": "ipython",
    "version": 3
   },
   "file_extension": ".py",
   "mimetype": "text/x-python",
   "name": "python",
   "nbconvert_exporter": "python",
   "pygments_lexer": "ipython3",
   "version": "3.7.12"
  }
 },
 "nbformat": 4,
 "nbformat_minor": 5
}
